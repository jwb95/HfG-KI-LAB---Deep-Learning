{
 "cells": [
  {
   "cell_type": "code",
   "execution_count": 1,
   "metadata": {},
   "outputs": [],
   "source": [
    "import numpy as np\n",
    "import tensorflow as tf\n",
    "from tensorflow import keras\n",
    "from tensorflow.keras.layers import Input, Dense, Flatten\n",
    "from tensorflow.keras.models import Model\n",
    "from tensorflow.keras import backend as K\n",
    "from tensorflow.keras.optimizers import Adam\n",
    "from tensorflow.keras.utils import Progbar\n",
    "import matplotlib.pyplot as plt"
   ]
  },
  {
   "cell_type": "code",
   "execution_count": 2,
   "metadata": {},
   "outputs": [
    {
     "name": "stdout",
     "output_type": "stream",
     "text": [
      "Downloading data from https://storage.googleapis.com/tensorflow/tf-keras-datasets/mnist.npz\n",
      "11493376/11490434 [==============================] - 1s 0us/step\n",
      "11501568/11490434 [==============================] - 1s 0us/step\n",
      "x_train shape: (60000, 28, 28, 1)\n",
      "60000 train samples\n",
      "10000 test samples\n",
      "y_train shape: (60000, 10)\n"
     ]
    }
   ],
   "source": [
    "# Model / data parameters\n",
    "n_classes = 10\n",
    "input_shape = (28, 28, 1)\n",
    "\n",
    "# the data, split between train and test sets\n",
    "(x_train, y_train), (x_test, y_test) = keras.datasets.mnist.load_data()\n",
    "\n",
    "# Scale images to the [0, 1] range\n",
    "x_train = x_train.astype(\"float32\") / 255\n",
    "x_test = x_test.astype(\"float32\") / 255\n",
    "# Make sure images have shape (28, 28, 1)\n",
    "x_train = np.expand_dims(x_train, -1)\n",
    "x_test = np.expand_dims(x_test, -1)\n",
    "print(\"x_train shape:\", x_train.shape)\n",
    "print(x_train.shape[0], \"train samples\")\n",
    "print(x_test.shape[0], \"test samples\")\n",
    "\n",
    "\n",
    "# convert class vectors to binary class matrices\n",
    "y_train = keras.utils.to_categorical(y_train, n_classes)\n",
    "y_test = keras.utils.to_categorical(y_test, n_classes)\n",
    "print(\"y_train shape:\", y_train.shape)"
   ]
  },
  {
   "cell_type": "code",
   "execution_count": 3,
   "metadata": {},
   "outputs": [
    {
     "data": {
      "image/png": "[encoded data removed]",
      "text/plain": [
       "<Figure size 720x720 with 9 Axes>"
      ]
     },
     "metadata": {
      "needs_background": "light"
     },
     "output_type": "display_data"
    }
   ],
   "source": [
    "def plot_results(imgs, labels):\n",
    "    plt.figure(figsize=(10, 10))\n",
    "    for i in range(9):\n",
    "        ax = plt.subplot(3, 3, i + 1)\n",
    "        plt.imshow(np.uint8(imgs[i]*255), cmap='gray')\n",
    "        plt.title(int(np.argmax(labels[i])))\n",
    "        plt.axis(\"off\")\n",
    "\n",
    "plot_results(x_train[:9], y_train[:9])"
   ]
  },
  {
   "cell_type": "code",
   "execution_count": 182,
   "metadata": {},
   "outputs": [
    {
     "name": "stdout",
     "output_type": "stream",
     "text": [
      "Model: \"model_18\"\n",
      "_________________________________________________________________\n",
      " Layer (type)                Output Shape              Param #   \n",
      "=================================================================\n",
      " input_23 (InputLayer)       [(None, 28, 28, 1)]       0         \n",
      "                                                                 \n",
      " flatten_22 (Flatten)        (None, 784)               0         \n",
      "                                                                 \n",
      " dense_60 (Dense)            (None, 784)               615440    \n",
      "                                                                 \n",
      " dense_61 (Dense)            (None, 397)               311645    \n",
      "                                                                 \n",
      " dense_62 (Dense)            (None, 10)                3980      \n",
      "                                                                 \n",
      "=================================================================\n",
      "Total params: 931,065\n",
      "Trainable params: 931,065\n",
      "Non-trainable params: 0\n",
      "_________________________________________________________________\n"
     ]
    }
   ],
   "source": [
    "def build_model(input_shape, n_classes):\n",
    "    inp = Input(input_shape)\n",
    "    x = Flatten()(inp)\n",
    "    x = Dense(28*28, use_bias=True, activation='relu')(x)\n",
    "    x = Dense((28*28+10)/2, use_bias=True, activation='relu')(x)\n",
    "    x = Dense(n_classes, activation=\"softmax\")(x)\n",
    "    return Model(inp, x)\n",
    "\n",
    "model = build_model(input_shape, n_classes)\n",
    "model.summary()"
   ]
  },
  {
   "cell_type": "code",
   "execution_count": 183,
   "metadata": {},
   "outputs": [],
   "source": [
    "def categorical_crossentropy(pred, true):\n",
    "    #return tf.reduce_mean(tf.keras.metrics.categorical_crossentropy(true, pred, from_logits=False, label_smoothing=0.0, axis=-1))\n",
    "    loss = -tf.reduce_sum(true * tf.math.log(pred+1e-7))\n",
    "    #loss = tf.reduce_sum(true * tf.square(true - pred))\n",
    "    return loss\n",
    "\n",
    "def accuracy_of_batch(pred, true):\n",
    "    batch_size = pred.shape[0]\n",
    "    pred = tf.argmax(pred, axis=1)\n",
    "    true = tf.argmax(true, axis=1)\n",
    "    is_equal_elementwise = tf.math.equal(pred, true)\n",
    "    is_equal_elementwise = tf.cast(is_equal_elementwise, tf.float32)\n",
    "    accuracy_percentage = tf.reduce_sum(is_equal_elementwise) / batch_size * 100\n",
    "    return accuracy_percentage\n",
    "\n",
    "@tf.function\n",
    "def test_step(img, true, model):\n",
    "    pred = model(img)\n",
    "    accuracy = accuracy_of_batch(pred, true)\n",
    "    return accuracy\n",
    "\n",
    "@tf.function\n",
    "def train_step(img, true, model, optimizer):\n",
    "    with tf.GradientTape() as tape:\n",
    "        pred = model(img)\n",
    "        loss = categorical_crossentropy(pred, true)\n",
    "    gradients = tape.gradient(target=loss, sources=model.trainable_weights)\n",
    "    optimizer.apply_gradients(zip(gradients, model.trainable_weights))\n",
    "    return loss"
   ]
  },
  {
   "cell_type": "code",
   "execution_count": 184,
   "metadata": {},
   "outputs": [],
   "source": [
    "def unison_shuffled_copies(a, b):\n",
    "    p = np.random.permutation(len(a))\n",
    "    return a[p], b[p]\n",
    "\n",
    "def get_tf_dataset(batch_size, x_train, y_train):\n",
    "    x_train, y_train = unison_shuffled_copies(x_train, y_train)\n",
    "    x_train = tf.data.Dataset.from_tensor_slices(x_train).batch(batch_size)\n",
    "    y_train = tf.data.Dataset.from_tensor_slices(y_train).batch(batch_size)\n",
    "    return zip(x_train, y_train)"
   ]
  },
  {
   "cell_type": "code",
   "execution_count": 185,
   "metadata": {},
   "outputs": [
    {
     "name": "stdout",
     "output_type": "stream",
     "text": [
      "60032/60000 [==============================] - 3s 48us/step - loss: 12.9043\n",
      "loss: 26.382881 accuracy: 96.58821%\n",
      "60032/60000 [==============================] - 2s 33us/step - loss: 11.2416\n",
      "loss: 9.8056135 accuracy: 97.3299%\n",
      "60032/60000 [==============================] - 2s 34us/step - loss: 9.8061\n",
      "loss: 6.1314955 accuracy: 97.55736%\n",
      "60032/60000 [==============================] - 2s 34us/step - loss: 1.2349\n",
      "loss: 4.254413 accuracy: 97.75514%\n",
      "60032/60000 [==============================] - 2s 35us/step - loss: 0.7313\n",
      "loss: 3.382732 accuracy: 97.86392%\n",
      "60032/60000 [==============================] - 2s 35us/step - loss: 0.6572\n",
      "loss: 2.9120588 accuracy: 97.77492%\n",
      "60032/60000 [==============================] - 2s 36us/step - loss: 0.8073\n",
      "loss: 2.3027706 accuracy: 97.962814%\n",
      "60032/60000 [==============================] - 2s 38us/step - loss: 1.1860\n",
      "loss: 1.9276893 accuracy: 98.279274%\n",
      "60032/60000 [==============================] - 2s 35us/step - loss: 0.7510\n",
      "loss: 1.4932739 accuracy: 98.0716%\n",
      "60032/60000 [==============================] - 2s 33us/step - loss: 4.3583\n",
      "loss: 1.6088117 accuracy: 97.69581%\n",
      "60032/60000 [==============================] - 2s 34us/step - loss: 0.2515\n",
      "loss: 1.6551912 accuracy: 98.05182%\n",
      "60032/60000 [==============================] - 2s 35us/step - loss: 0.9915\n",
      "loss: 1.6287365 accuracy: 97.9727%\n",
      "60032/60000 [==============================] - 2s 36us/step - loss: 0.0641\n",
      "loss: 1.5334415 accuracy: 98.06171%\n",
      "60032/60000 [==============================] - 2s 36us/step - loss: 0.0164\n",
      "loss: 0.7801829 accuracy: 98.51662%\n",
      "60032/60000 [==============================] - 2s 38us/step - loss: 0.0293\n",
      "loss: 1.1147755 accuracy: 97.9727%\n"
     ]
    }
   ],
   "source": [
    "# Adam-Optimizer\n",
    "optimizer = Adam(learning_rate=0.001)\n",
    "\n",
    "batch_size = 128\n",
    "epochs = 15\n",
    "\n",
    "mean_epoch_losses = []\n",
    "mean_epoch_accuracies = []\n",
    "\n",
    "for epoch in range(epochs):\n",
    "    train_dataset = get_tf_dataset(batch_size, x_train, y_train)\n",
    "    test_dataset = get_tf_dataset(batch_size, x_test, y_test)\n",
    "\n",
    "    # train\n",
    "    epoch_losses = []\n",
    "    pb = Progbar(x_train.shape[0], stateful_metrics=['loss'])\n",
    "    for image, true in train_dataset:\n",
    "        loss_tensor = train_step(image, true, model, optimizer)\n",
    "        pb.add(batch_size, values=[('loss', loss_tensor)])\n",
    "        epoch_losses.append(loss_tensor.numpy())\n",
    "\n",
    "    mean_epoch_loss = np.mean(epoch_losses)\n",
    "    mean_epoch_losses.append(mean_epoch_loss)\n",
    "\n",
    "    # test\n",
    "    epoch_accuracies = []\n",
    "    for image, true in test_dataset:\n",
    "        accuracy_tensor = test_step(image, true, model)\n",
    "        epoch_accuracies.append(accuracy_tensor.numpy())\n",
    "    mean_epoch_accuracy = np.mean(epoch_accuracies)\n",
    "    mean_epoch_accuracies.append(mean_epoch_accuracy)\n",
    "\n",
    "    print('loss: ' + str(mean_epoch_loss) + ' accuracy: ' + str(mean_epoch_accuracy)+'%')\n",
    "    "
   ]
  },
  {
   "cell_type": "code",
   "execution_count": 186,
   "metadata": {},
   "outputs": [
    {
     "data": {
      "image/png": "[encoded data removed]",
      "text/plain": [
       "<Figure size 720x720 with 9 Axes>"
      ]
     },
     "metadata": {
      "needs_background": "light"
     },
     "output_type": "display_data"
    }
   ],
   "source": [
    "plot_results(x_test[:9], y_test[:9])"
   ]
  }
 ],
 "metadata": {
  "interpreter": {
   "hash": "c72c33be0962ac487280757bb3a776dab5448b4c203a17148c0aa550a18915f1"
  },
  "kernelspec": {
   "display_name": "Python 3.9.10 64-bit",
   "language": "python",
   "name": "python3"
  },
  "language_info": {
   "codemirror_mode": {
    "name": "ipython",
    "version": 3
   },
   "file_extension": ".py",
   "mimetype": "text/x-python",
   "name": "python",
   "nbconvert_exporter": "python",
   "pygments_lexer": "ipython3",
   "version": "3.7.11"
  },
  "orig_nbformat": 4
 },
 "nbformat": 4,
 "nbformat_minor": 2
}

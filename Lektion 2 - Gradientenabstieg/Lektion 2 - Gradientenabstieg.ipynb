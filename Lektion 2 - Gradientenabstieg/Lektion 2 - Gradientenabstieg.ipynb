{
 "cells": [
  {
   "cell_type": "markdown",
   "metadata": {},
   "source": [
    "Lektion 2: Gradient Descent"
   ]
  },
  {
   "cell_type": "code",
   "execution_count": 3,
   "metadata": {},
   "outputs": [],
   "source": [
    "# Funktion zum Visualisieren\n",
    "import matplotlib.pyplot as plt\n",
    "\n",
    "def plot_gradient_descent(xs, errors):\n",
    "    plt.scatter(xs, errors)\n",
    "    plt.plot(xs, errors)\n",
    "    xlim = max([abs(x) for x in xs])\n",
    "    plt.xlim([-xlim,xlim])\n",
    "    plt.ylim([0,max(errors)])\n",
    "    plt.xlabel('x')\n",
    "    plt.ylabel('squared_error')\n",
    "    plt.show()"
   ]
  },
  {
   "cell_type": "code",
   "execution_count": 4,
   "metadata": {},
   "outputs": [],
   "source": [
    "\"\"\"\n",
    "Für eine kontinuierliche, konvexe Funktion f(x) kann ein x dem globalen Minimum von f(x) iterativ angenähert werden durch:\n",
    "\n",
    "x_n+1 = x_n - df(x_n)/dx * alpha\n",
    "\n",
    "wobei:\n",
    "x_n = der x-Wert zum Iterationsschritt n. (Initialisiert werden kann x_0 zufällig.)\n",
    "x_n+1 = der neue, 'bessere' x-Wert als Resultat einer Iteration.\n",
    "df(x_n)/dx = Der Wert der 1. Ableitung von f(x) in Abhängigkeit von x am Punkt (x_n)\n",
    "alpha = eine vom Benutzer heuristisch festzulegende 'learning rate'.\n",
    "\"\"\"\n",
    "\n",
    "# Die Standardparabel f(x) = x**2 wird in diesem Beispiel unser f(x) sein.\n",
    "def f(x):\n",
    "    y = x**2\n",
    "    return y\n",
    "\n",
    "# Die Ableitung von f(x) in Abhängigkeit von x ist = 2*x. Nennen wir die python-Funktion d_f, 'd' für Derivative (= Ableitung).\n",
    "def d_f(x):\n",
    "    y = 2*x\n",
    "    return y"
   ]
  },
  {
   "cell_type": "code",
   "execution_count": 6,
   "metadata": {},
   "outputs": [],
   "source": [
    "\"\"\"\n",
    "Funktion für eine Iteration\n",
    "Inputs: das aktuelle x_n und die learning rate\n",
    "Outputs: das neue x_n+1 und den aktuellen Error (= f(x_n+1))\n",
    "\"\"\"\n",
    "\n",
    "def optimization_step(x, learning_rate):\n",
    "    x = x - d_f(x) * learning_rate\n",
    "    error = f(x)\n",
    "    return x, error"
   ]
  },
  {
   "cell_type": "code",
   "execution_count": 9,
   "metadata": {},
   "outputs": [
    {
     "name": "stdout",
     "output_type": "stream",
     "text": [
      "0.004126021484180557\n",
      "0.00364575258342194\n",
      "0.0032213869827116266\n",
      "0.002846417537923993\n",
      "0.0025150945365096404\n",
      "0.002222337532459918\n",
      "0.0019636574436815834\n",
      "0.001735087717237047\n",
      "0.001533123506950655\n",
      "0.001354667930741599\n",
      "0.0011969845836032767\n",
      "0.0010576555780718554\n",
      "0.0009345444687842916\n",
      "0.0008257634926178\n",
      "0.0007296446220770881\n",
      "0.000644713988067315\n",
      "0.0005696692798562795\n",
      "0.0005033597756810086\n",
      "0.0004447686977917392\n",
      "0.0003929976213687808\n"
     ]
    },
    {
     "data": {
      "image/png": "[encoded data removed]",
      "text/plain": [
       "<Figure size 432x288 with 1 Axes>"
      ]
     },
     "metadata": {
      "needs_background": "light"
     },
     "output_type": "display_data"
    }
   ],
   "source": [
    "# Learning rate\n",
    "learning_rate = 0.03\n",
    "# Anzahl der Iterationen\n",
    "num_steps = 20\n",
    "\n",
    "# x zufällig zw. -4 und 4 initialisieren.\n",
    "from random import uniform\n",
    "x = uniform(-4,4)\n",
    "\n",
    "# Für die x-werte und die zugehörigen Errors legen wir jeweils eine Liste an\n",
    "# und legen das initialiserte x bzw. f(x) hinein. Das tun wir, um später den Verlauf der Optimierung zu visualisieren.\n",
    "xs, sqrd_errors = [x,], [f(x),]\n",
    "\n",
    "# Optimierungsschleife\n",
    "for i in range(num_steps):\n",
    "    # Optimierungsschritt ausführen\n",
    "    x, sqrd_error = optimization_step(x, learning_rate)\n",
    "    # Den aktuellen Error ausgeben\n",
    "    print(sqrd_error)\n",
    "    # Das aktuelle x und den zugehörigen Fehler an die entsprechende Liste anhängen.\n",
    "    xs.append(x)\n",
    "    sqrd_errors.append(sqrd_error)\n",
    "\n",
    "# Optimierungsverlauf visualisieren\n",
    "plot_gradient_descent(xs, sqrd_errors)"
   ]
  },
  {
   "cell_type": "code",
   "execution_count": null,
   "metadata": {},
   "outputs": [],
   "source": []
  }
 ],
 "metadata": {
  "interpreter": {
   "hash": "c835db2baaf2435493ba177633ecc6e7b494f68caffaf071892b99466f1af313"
  },
  "kernelspec": {
   "display_name": "Python 3.6.13 ('movenet')",
   "language": "python",
   "name": "python3"
  },
  "language_info": {
   "codemirror_mode": {
    "name": "ipython",
    "version": 3
   },
   "file_extension": ".py",
   "mimetype": "text/x-python",
   "name": "python",
   "nbconvert_exporter": "python",
   "pygments_lexer": "ipython3",
   "version": "3.7.11"
  },
  "orig_nbformat": 4
 },
 "nbformat": 4,
 "nbformat_minor": 2
}

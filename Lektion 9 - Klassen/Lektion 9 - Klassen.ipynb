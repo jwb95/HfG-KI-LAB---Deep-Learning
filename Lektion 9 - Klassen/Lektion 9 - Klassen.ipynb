{
 "cells": [
  {
   "cell_type": "code",
   "execution_count": 1,
   "metadata": {},
   "outputs": [
    {
     "name": "stdout",
     "output_type": "stream",
     "text": [
      "7\n"
     ]
    }
   ],
   "source": [
    "\"\"\"\n",
    "In Tensorflow ist es üblich von der Funktionalität von Keras Gebrauch zu machen und Models durch eine Sequenz von Layer-Objekten zu definieren\n",
    "und dann ein Model-Objekt anhand des Input- und des Output-Layers zu erstellen.\n",
    "Da wir die Variablen, die auf ein Layer deuten, (z.b die Variable 'out' deutet auf ein Dense-Layer) nach Erstellung des Model-Objekts nicht\n",
    "mehr benötigen macht es Sinn die Erstellung des Models in eine Funktion zu packen. So etwa:\n",
    "\n",
    "def build_model():\n",
    "    inp = Input(...)\n",
    "    x = Dense(...)(inp)\n",
    "    ...\n",
    "    out = Dense(...)(x)\n",
    "    model = Model(inp, x)\n",
    "    return model\n",
    "\n",
    "Die Funktion 'build_model()' gibt uns dann nur das Objekt 'model' zurück und alle auf dem Weg dorthin erstellten Variablen werden nach Ausführen\n",
    "der Funktion gelöscht.\n",
    "\n",
    "In PyTorch gibt es nicht direkt ein solches Model-Objekt, stattdessen erstellt man eine sog. 'Klasse'.\n",
    "Machen wir uns also mit den Grundfunktionen von Klassen vertraut.\n",
    "\n",
    "'def' ('definieren/define') ist ja das Keyword, um eine Funktion zu erstellen. Anschließend können wir die Funktion über ihren Namen benutzen, etwa:\n",
    "\"\"\"\n",
    "\n",
    "def add(x, y):\n",
    "    return x + y\n",
    "\n",
    "print(add(3, 4))"
   ]
  },
  {
   "cell_type": "code",
   "execution_count": 2,
   "metadata": {},
   "outputs": [
    {
     "name": "stdout",
     "output_type": "stream",
     "text": [
      "47\n",
      "female\n"
     ]
    }
   ],
   "source": [
    "\"\"\"\n",
    "Das Keyword zur Definition einer Klasse ist 'class'.\n",
    "Eine Klasse ist eine Datenstruktur, dessen Funktionalität wir zunächst definieren. Wir können dann theoretisch unendlich viele Instanzen/Objekte einer Klasse \n",
    "erstellen. Klassen besitzen eigene Funktionen, sog. 'Methoden' und zwar mindestens eine, nämlich den Konstruktor. Der Konstruktor ist die Funktion,\n",
    "die aufgerufen wird, wenn wir eine Instanz einer Klasse erstellen wollen. Der Name dieser Konstruktor-Funktion ist in Python immer '__init__()'.\n",
    "Sie hat zwingend ein Argument 'self' und kann wie auch eine Funktion ansonsten beliebige Variablen haben.\n",
    "\"\"\"\n",
    "\n",
    "class Mensch():\n",
    "    def __init__(self, alter, gender):\n",
    "        self.alter = alter\n",
    "        self.gender = gender\n",
    "\n",
    "\"\"\"\n",
    "Der Konstruktor unserer Klasse Mensch nimmt abgesehen von 'self' 2 Argumente (Alter und Geschlecht). Unser Konstruktor speichert diese dann intern im Objekt.\n",
    "self.Alter und self.Geschlecht sind Variablen, die innerhalb des Objektes existieren. Erstellen wir ein Objekt der Klasse 'Mensch'.\n",
    "\"\"\"\n",
    "\n",
    "middleaged_woman = Mensch(47, 'female')\n",
    "\n",
    "\"\"\"\n",
    "Wir können dann auf interne Variablen im Objekt 'middleaged_woman' folgendermaßen zugreifen:\n",
    "\"\"\"\n",
    "\n",
    "print(middleaged_woman.alter)\n",
    "print(middleaged_woman.gender)"
   ]
  },
  {
   "cell_type": "code",
   "execution_count": 3,
   "metadata": {},
   "outputs": [
    {
     "name": "stdout",
     "output_type": "stream",
     "text": [
      "22\n",
      "25\n"
     ]
    }
   ],
   "source": [
    "\"\"\"\n",
    "Desweiteren könnten wir unsere Klasse auch etwas spannender gestalten, indem wir weitere Methoden hinzufügen.\n",
    "\"\"\"\n",
    "class Mensch():\n",
    "    def __init__(self, alter, gender):\n",
    "        self.alter = alter\n",
    "        self.gender = gender\n",
    "    \n",
    "    def altern(self, jahre):\n",
    "        self.alter += jahre\n",
    "\n",
    "\"\"\"\n",
    "Diese können wir dann mit selber Syntax wie die Variablen aufrufen.\n",
    "\"\"\"\n",
    "young_diverse = Mensch(22, 'diverse')\n",
    "print(young_diverse.alter)\n",
    "\n",
    "# Methode Altern benutzen.\n",
    "young_diverse.altern(jahre=3)\n",
    "print(young_diverse.alter)"
   ]
  },
  {
   "cell_type": "code",
   "execution_count": 4,
   "metadata": {},
   "outputs": [
    {
     "name": "stdout",
     "output_type": "stream",
     "text": [
      "9\n"
     ]
    }
   ],
   "source": [
    "\"\"\"\n",
    "Eine der wichtigsten Eigenschaften von Klassen ist, dass man sie hierarchisch strukturieren kann. D.h. wenn wir eine Klasse 'Mensch' haben könnten\n",
    "wir außerdem Klassen wie beispielsweise 'Kind', 'Mann', etc. definieren - also solche Klassen, die Unterformen des Überbegriffs 'Mensch' darstellen.\n",
    "Ein 'Kind' hätte genau wie ein 'Mann' auch ein Alter und ein Gender. Auch die Methode altern(), die wir bereits definierten, ergibt für diese Unterklassen Sinn.\n",
    "Deshalb kann man folgendes tun:\n",
    "\"\"\"\n",
    "\n",
    "class Kind(Mensch):\n",
    "    def __init__(self, alter, gender):\n",
    "        super().__init__(alter, gender)\n",
    "\n",
    "\"\"\"\n",
    "Bemerke zunächst, dass wir der Klasse 'Kind' ein Argument übergeben, und zwar die Klasse 'Mensch'. Damit signalisieren wir,\n",
    "dass 'Kind' eine Unterklasse von 'Mensch' ist.\n",
    "Dann schreiben wir in den Konstruktor noch den Ausdruck 'super().__init__(alter, gender)'. Was nun passiert ist, dass 'Kind' den Konstruktor und alle Methoden\n",
    "von Mensch 'erbt'. Wir können also ein 'Kind' erstellen und alle Methoden von Mensch darauf benutzen.\n",
    "\"\"\"\n",
    "\n",
    "female_child = Kind(7, 'female')\n",
    "female_child.altern(jahre=2)\n",
    "print(female_child.alter)"
   ]
  },
  {
   "cell_type": "code",
   "execution_count": 5,
   "metadata": {},
   "outputs": [
    {
     "name": "stdout",
     "output_type": "stream",
     "text": [
      "Das Kind besucht momentan nicht die Grundschule.\n",
      "Es wird aber so langsam Zeit!\n",
      "Das Kind besucht momentan die Grundschule.\n"
     ]
    }
   ],
   "source": [
    "\"\"\"\n",
    "Der Zweck dessen ist, dass die Klasse 'Kind' nun zusätzlich zu den allgemeinen menschlichen Eigenschaften zusätzliche haben könnte,\n",
    "die nicht jedem Menschen zu eigen sind.\n",
    "Gehen wir z.B. davon aus, dass nur Kinder die Grundschule besuchen, wäre so etwas denkbar:\n",
    "\"\"\"\n",
    "\n",
    "class Kind(Mensch):\n",
    "    def __init__(self, alter, gender, besucht_grundschule):\n",
    "        # Durch die folgende Line erbt 'Kind' alle Methoden und den Konstruktor von 'Mensch'.\n",
    "        super().__init__(alter, gender)\n",
    "        # Zusätzlich hat Kind noch das Attribut 'besucht_grundschule'\n",
    "        self.besucht_grundschule = besucht_grundschule\n",
    "    \n",
    "    # Nun können wir noch zusätzliche dem Kind eigene Methoden definieren.\n",
    "    def einschulen(self):\n",
    "        self.besucht_grundschule = True\n",
    "\n",
    "    def ist_grundschuelerin(self):\n",
    "        if self.besucht_grundschule:\n",
    "            print('Das Kind besucht momentan die Grundschule.')\n",
    "        else:\n",
    "            print('Das Kind besucht momentan nicht die Grundschule.')\n",
    "            if self.alter >= 6:\n",
    "                print('Es wird aber so langsam Zeit!')\n",
    "\n",
    "female_child = Kind(6, 'female', False)\n",
    "female_child.ist_grundschuelerin()\n",
    "female_child.einschulen()\n",
    "female_child.ist_grundschuelerin()"
   ]
  }
 ],
 "metadata": {
  "interpreter": {
   "hash": "d5d33e84a6a4078add376f3ac5dbaee713d20859ed2bc55287af4b7909b08c40"
  },
  "kernelspec": {
   "display_name": "Python 3.7.11 ('tf2')",
   "language": "python",
   "name": "python3"
  },
  "language_info": {
   "codemirror_mode": {
    "name": "ipython",
    "version": 3
   },
   "file_extension": ".py",
   "mimetype": "text/x-python",
   "name": "python",
   "nbconvert_exporter": "python",
   "pygments_lexer": "ipython3",
   "version": "3.7.11"
  },
  "orig_nbformat": 4
 },
 "nbformat": 4,
 "nbformat_minor": 2
}

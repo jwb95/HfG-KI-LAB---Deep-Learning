{
 "cells": [
  {
   "cell_type": "code",
   "execution_count": 1,
   "metadata": {},
   "outputs": [],
   "source": [
    "# Funktion zum Visualisieren\n",
    "import matplotlib.pyplot as plt\n",
    "\n",
    "def plot_losses(losses):\n",
    "    plt.plot(losses)\n",
    "    plt.xlabel('trainingsschritt')\n",
    "    plt.ylabel('max_error_für_epoche')\n",
    "    plt.show()"
   ]
  },
  {
   "cell_type": "code",
   "execution_count": 2,
   "metadata": {},
   "outputs": [],
   "source": [
    "# Import von Tensorflow, Keras-Layers, dem Model-Object und dem Gradient-Descent-Optimizer\n",
    "import tensorflow as tf\n",
    "from tensorflow.keras.layers import Input, Dense\n",
    "from tensorflow.keras.models import Model\n",
    "from tensorflow.keras.optimizers import SGD"
   ]
  },
  {
   "cell_type": "code",
   "execution_count": 3,
   "metadata": {},
   "outputs": [],
   "source": [
    "# Funktion, die uns ein lineares Model mit einem Input- und einem Fully-Connected Output-Layer zurückgibt.\n",
    "def build_model(n_inputs, n_outputs):\n",
    "    # Input layer mit n_inputs Inputs\n",
    "    input_layer = Input((n_inputs,), name='Inputs (x0, x1)')\n",
    "    # Fully-Connected Layer (= Dense) mit n_outputs Neuronen, welches seinen Input vom Layer 'input_layer' erhält.\n",
    "    # Den Output des Layers nennen wir 'x'. Wir benutzen vorerst keinen Bias. (Was es mit dem Bias auf sich hat lernen wir in der nächsten Lektion.)\n",
    "    # Die Gewichte werden per default gemäß Glorot-Uniform initialisiert.\n",
    "    x = Dense(n_outputs, use_bias=False, name='x')(input_layer)\n",
    "    # Model erstellen.\n",
    "    model = Model(input_layer, x)\n",
    "    return model"
   ]
  },
  {
   "cell_type": "code",
   "execution_count": 14,
   "metadata": {},
   "outputs": [
    {
     "name": "stdout",
     "output_type": "stream",
     "text": [
      "Model: \"model_4\"\n",
      "_________________________________________________________________\n",
      " Layer (type)                Output Shape              Param #   \n",
      "=================================================================\n",
      " Inputs (x0, x1) (InputLayer  [(None, 2)]              0         \n",
      " )                                                               \n",
      "                                                                 \n",
      " x (Dense)                   (None, 1)                 2         \n",
      "                                                                 \n",
      "=================================================================\n",
      "Total params: 2\n",
      "Trainable params: 2\n",
      "Non-trainable params: 0\n",
      "_________________________________________________________________\n"
     ]
    }
   ],
   "source": [
    "\"\"\"\n",
    "Bauen wir ein Model mit 2 Inputs und einem Output.\n",
    "Mit .summary() können wir den Graphen des Models betrachten.\n",
    "\n",
    "Zu bemerken ist: Der Output Shape jedes Layers hat ein 'None' in der ersten Dimension. In ein Tensorflow-Model können wir nicht einfach\n",
    "die Inputs für ein einzelnes Trainingsbeispiel wie bspw. die Liste [0, 1] hineingeben, sondern immer nur eine Liste von Trainingsbeispielen.\n",
    "Also [[0,1],] würde funktionieren. Das hat den Grund, dass wir so einen Trainingsschritt für mehrere Trainingsbeispiele gleichzeitig vollziehen können.\n",
    "Möchten wir bspw. einen Trainingsschritt auf unserem ganzen Datenset vollziehen, können wir die Liste unserer Input-Paare [[0, 0], [0, 1], [1, 1], [1, 0]]\n",
    "in das Model geben. Die Anzahl von Trainingsbeispielen pro Trainingsschritt nennt man 'batch size'. So können wir uns bei unserem Datenset zwischen einer \n",
    "batch size zwischen einschließend 1 und 4 entscheiden. 'None' ist lediglich ein Platzhalter für die batch size des Models und zeigt an, dass diese variabel ist.\n",
    "Was für einen Einluss hat die batch size? Je höher, desto schneller kann das Training prinzipiell ausgeführt werden. Jedoch ist die batch size durch unseren RAM\n",
    "bzw. VRAM limitiert.\n",
    "\"\"\"\n",
    "model = build_model(n_inputs=2, n_outputs=1)\n",
    "model.summary()\n"
   ]
  },
  {
   "cell_type": "code",
   "execution_count": 8,
   "metadata": {},
   "outputs": [
    {
     "name": "stdout",
     "output_type": "stream",
     "text": [
      "[[0, 0], [0, 1], [1, 1], [1, 0]]\n",
      "[0, 1, 1, 0]\n",
      "(4, 2)\n",
      "(4,)\n",
      "korrigierter shape:  (4, 1)\n",
      "tf.Tensor(\n",
      "[[0 0]\n",
      " [0 1]\n",
      " [1 1]\n",
      " [1 0]], shape=(4, 2), dtype=int32)\n",
      "tf.Tensor(\n",
      "[[0]\n",
      " [1]\n",
      " [1]\n",
      " [0]], shape=(4, 1), dtype=int32)\n",
      "korrigierter dtype: \n",
      "tf.Tensor(\n",
      "[[0. 0.]\n",
      " [0. 1.]\n",
      " [1. 1.]\n",
      " [1. 0.]], shape=(4, 2), dtype=float32)\n",
      "tf.Tensor(\n",
      "[[0.]\n",
      " [1.]\n",
      " [1.]\n",
      " [0.]], shape=(4, 1), dtype=float32)\n"
     ]
    }
   ],
   "source": [
    "# Datenset\n",
    "# [[x0, x1], y/label]\n",
    "Dataset = [\n",
    "    [[0,0], 0],\n",
    "    [[0,1], 1],\n",
    "    [[1,1], 1],\n",
    "    [[1,0], 0]\n",
    "]\n",
    "\n",
    "# Tensorflow benötigt unsere Trainingsdaten für den Graphen, den wir in train_step definiert haben, als tf.tensor.\n",
    "# inputs in neue Liste schreiben\n",
    "inputs = [example[0] for example in Dataset]\n",
    "print(inputs)\n",
    "# labels in neue Liste schreiben\n",
    "labels = [example[1] for example in Dataset]\n",
    "print(labels)\n",
    "\n",
    "# Legen wir uns also auf eine batch size von 4 fest. Dann konvertieren wir die inputs und labels gemeinsam in jeweils einen Tensor.\n",
    "# Wählten wir eine batch size von 1, so müssten wir jedes Element von inputs in einen Tensor umwandeln und diese in einer\n",
    "# Liste speichern. Analog für labels.\n",
    "inputs = tf.convert_to_tensor(inputs)\n",
    "labels = tf.convert_to_tensor(labels)\n",
    "print(inputs.shape)\n",
    "print(labels.shape)\n",
    "\n",
    "# inputs hat nun den .shape (4,2) = (batch_size, n_inputs).\n",
    "# labels hat den .shape (4,) = (batch_size, ). Das Model akzeptiert, wie wir der Summary entnehmen können als Label aber nur einen Tensor vom\n",
    "# shape (None, 1). Es braucht also eine Liste von Listen mit jeweils einem Element. Wir können mittels tf.expand_dims eine Dimension entlang der axis hinzufügen.\n",
    "\n",
    "labels = tf.expand_dims(labels, axis=1)\n",
    "print('korrigierter shape: ', labels.shape)\n",
    "print(inputs)\n",
    "print(labels)\n",
    "\n",
    "# Letztlich liegen die tensoren im int32 Format vor, weil wir das ursprüngliche Datenset nur aus Integern bestanden hat. Tensorflow-Models arbeiten mit float32,\n",
    "# also müssen wir noch den Datentyp der Tensoren ändern.\n",
    "inputs = tf.cast(inputs, dtype=tf.float32)\n",
    "labels = tf.cast(labels, dtype=tf.float32)\n",
    "print('korrigierter dtype: ')\n",
    "print(inputs)\n",
    "print(labels)"
   ]
  },
  {
   "cell_type": "code",
   "execution_count": 15,
   "metadata": {},
   "outputs": [],
   "source": [
    "# Definieren der Lossfunction L(x-y)=(x-y)^2 mit Tensorflow/Keras-Funktionen.\n",
    "# Bemerke: Wir erhalten, wenn wir mit einer batch size von 4 rechnen, einen tensor mit shape (4,1) aus dem Model.\n",
    "# Der Loss wird dann für jeden dieser 4 Outputs jeweils zusammen mit dem entsprechenden Label berechnet, wir erhalten also 4 Losses.\n",
    "# Wir berechnen davon einfach die Summe, sodass wir am Ende nur einen Loss haben.\n",
    "def lossfunction(x, y):\n",
    "    loss = tf.square(tf.subtract(x,y))\n",
    "    loss = tf.reduce_mean(loss)\n",
    "    return loss\n",
    "\n",
    "# Gradient Descent-Optimizer anlegen\n",
    "optimizer = SGD(learning_rate=0.5)\n",
    "\n",
    "# Definieren des Trainingsschritts als tensorflow-Funktion.\n",
    "@tf.function\n",
    "def train_step(inputs, y, Model):\n",
    "    # Ein GradientTape notiert alle Rechenschritte des eingerückten Graphen für ein Trainingsbeispiel.\n",
    "    # In unserem Fall notiert es für ein Trainingsbeispiel alle Rechenschritte, die das Model und die Lossfunction vollziehen.\n",
    "    # Voraussetzung ist, dass diese mittels Tensorflow oder Keras-Funktionen ausgedrückt wurden, was wir getan haben.\n",
    "    with tf.GradientTape() as tape:\n",
    "        x = Model(inputs)\n",
    "        loss = lossfunction(x, y)\n",
    "    # Die Methode .gradient, die wir auf dem GradientTape ausführen, gibt eine Liste zurück, die für jeden trainierbaren Parameter des Models die \n",
    "    # Ableitung des losses in Abhängigkeit des jeweiligen trainierbaren Parameters zurückggibt. Wir müssen also keine Ableitungen mehr selbstständig ausrechnen.\n",
    "    gradients = tape.gradient(target=loss, sources=Model.trainable_weights)\n",
    "    # Mit der Methode .apply_gradients des Optimizers können wir jetzt mittels der gradients-liste jeden trainierbaren Parameter des Models optimieren.\n",
    "    # Dafür müssen wir ein iterierbares Objekt erstellen, dessen Elemente jeweils ein Paar aus einem Model-Parameter und dem zugehörigen Gradient ist.\n",
    "    # Die Python-Funktion zip erstellt für 2 gleich-lange Listen ein solches Objekt.\n",
    "    optimizer.apply_gradients(zip(gradients, Model.trainable_weights))\n",
    "    return loss"
   ]
  },
  {
   "cell_type": "code",
   "execution_count": 16,
   "metadata": {},
   "outputs": [
    {
     "name": "stdout",
     "output_type": "stream",
     "text": [
      "1.2689388\n",
      "0.6622134\n",
      "0.36927223\n",
      "0.20751423\n",
      "0.116714165\n",
      "0.065650925\n",
      "0.036928598\n",
      "0.020772334\n",
      "0.011684436\n",
      "0.006572497\n",
      "0.003697031\n",
      "0.0020795804\n",
      "0.001169764\n",
      "0.0006579925\n",
      "0.0003701206\n",
      "Nach Training    : w0 = [0.02040553], w1 = [0.97959447]\n"
     ]
    },
    {
     "data": {
      "image/png": "[encoded data removed]",
      "text/plain": [
       "<Figure size 432x288 with 1 Axes>"
      ]
     },
     "metadata": {
      "needs_background": "light"
     },
     "output_type": "display_data"
    }
   ],
   "source": [
    "# Trainingsloop\n",
    "num_epochs = 15\n",
    "\n",
    "fehlerhistorie = []\n",
    "for epoch in range(num_epochs):\n",
    "    loss = train_step(inputs, labels, model)\n",
    "    loss = loss.numpy()\n",
    "    print(loss)\n",
    "    fehlerhistorie.append(loss)\n",
    "\n",
    "#print('Fehlerhistorie   :', fehlerhistorie)\n",
    "weights = model.layers[1].get_weights()[0]\n",
    "print('Nach Training    : w0 = '+str(weights[0])+', w1 = '+str(weights[1]))\n",
    "plot_losses(fehlerhistorie)"
   ]
  }
 ],
 "metadata": {
  "interpreter": {
   "hash": "a5d1b555a0939b9f61e82dde8c132f31c57daa7eb616013ccaa96382b5888c5d"
  },
  "kernelspec": {
   "display_name": "Python 3.8.8 ('base')",
   "language": "python",
   "name": "python3"
  },
  "language_info": {
   "codemirror_mode": {
    "name": "ipython",
    "version": 3
   },
   "file_extension": ".py",
   "mimetype": "text/x-python",
   "name": "python",
   "nbconvert_exporter": "python",
   "pygments_lexer": "ipython3",
   "version": "3.9.10"
  },
  "orig_nbformat": 4
 },
 "nbformat": 4,
 "nbformat_minor": 2
}

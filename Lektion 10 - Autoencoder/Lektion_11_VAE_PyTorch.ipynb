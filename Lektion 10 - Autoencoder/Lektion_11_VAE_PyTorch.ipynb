{
  "cells": [
    {
      "cell_type": "code",
      "execution_count": null,
      "metadata": {
        "id": "7qLpIWYq1z_n"
      },
      "outputs": [],
      "source": [
        "# Let's start with PyTorch!\n",
        "from torch import nn\n",
        "import torch\n",
        "import numpy as np\n",
        "import matplotlib.pyplot as plt\n",
        "import cv2"
      ]
    },
    {
      "cell_type": "code",
      "execution_count": null,
      "metadata": {
        "id": "piJzoKKM1z_r"
      },
      "outputs": [],
      "source": [
        "\"\"\"\n",
        "Warum der Exkurs über Klassen in Lektion 9?\n",
        "In PyTorch ist es Konvention Models als Klasse zu definieren, die von der PyTorch-Klasse 'nn.Module' erben.\n",
        "Die Layers eines Models werden durch den Konstruktor im Objekt gespeichert und dann eine Methode\n",
        "'forward()' definiert, die die Layers über einem Input sequentiell ausführt.\n",
        "Definieren wir also eine Encoder-Klasse, die 3 Convolutional Layers mit Strides und ein FC-Layer beinhaltet.\n",
        "\n",
        "Beachte: die Dimensionen in PyTorch folgen einer anderen Konvention als in Tensorflow.\n",
        "In Tensorflow : (batch_dimension, Höhe, Breite, Features)\n",
        "In PyTorch    : (batch_dimension, Features, Höhe, Breite)\n",
        "\"\"\"\n",
        "\n",
        "class Encoder_Model(nn.Module):\n",
        "    # ------------------------------------------------- #\n",
        "    # Konstruktor\n",
        "    def __init__(self):\n",
        "        super().__init__()\n",
        "        # Conv (1, 28, 28) -> (16, 14, 14)\n",
        "        self.conv1 = nn.Conv2d(\n",
        "            in_channels=1, \n",
        "            out_channels=16, \n",
        "            kernel_size=3, \n",
        "            stride=2,\n",
        "            padding=(1,1))\n",
        "\n",
        "        # Conv (16, 14, 14) -> (32, 7, 7)\n",
        "        self.conv2 = nn.Conv2d(\n",
        "            in_channels=16, \n",
        "            out_channels=32, \n",
        "            kernel_size=3, \n",
        "            stride=2,\n",
        "            padding=(1,1))\n",
        "\n",
        "        # Conv (32, 7, 7) -> (64, 4, 4)\n",
        "        self.conv3 = nn.Conv2d(\n",
        "            in_channels=32, \n",
        "            out_channels=64, \n",
        "            kernel_size=3, \n",
        "            stride=2,\n",
        "            padding=(1,1))\n",
        "\n",
        "        # FC Layer (576,) -> (9,)\n",
        "        self.fc_mean = nn.Linear(\n",
        "            in_features=4*4*64,\n",
        "            out_features=9)\n",
        "\n",
        "        # FC Layer (576,) -> (9,)\n",
        "        self.fc_logvar = nn.Linear(\n",
        "            in_features=4*4*64,\n",
        "            out_features=9)\n",
        "\n",
        "    # ------------------------------------------------- #\n",
        "    # forward-Methode\n",
        "    def forward(self, image_input):\n",
        "        # Conv 1 mit Relu\n",
        "        x = self.conv1(image_input)\n",
        "        x = torch.relu(x)\n",
        "        # Conv 2 mit Relu\n",
        "        x = self.conv2(x)\n",
        "        x = torch.relu(x)\n",
        "        # Conv 3 mit Relu\n",
        "        x = self.conv3(x)\n",
        "        x = torch.relu(x)\n",
        "        # Flattening der Featuremap, dann Fully-Connected\n",
        "        x = torch.flatten(x, start_dim=1)\n",
        "        mean = self.fc_mean(x)\n",
        "        logvar = self.fc_logvar(x)\n",
        "        return mean, logvar"
      ]
    },
    {
      "cell_type": "code",
      "execution_count": null,
      "metadata": {
        "id": "Z4tY6Lo81z_v"
      },
      "outputs": [],
      "source": [
        "# Model definieren\n",
        "Encoder = Encoder_Model()"
      ]
    },
    {
      "cell_type": "code",
      "execution_count": null,
      "metadata": {
        "id": "gWvGNX1_1z_x",
        "outputId": "e333cd6d-ab25-49a1-da05-d7adfa7fee07",
        "colab": {
          "base_uri": "https://localhost:8080/"
        }
      },
      "outputs": [
        {
          "output_type": "stream",
          "name": "stdout",
          "text": [
            "torch.Size([1, 9])\n"
          ]
        }
      ],
      "source": [
        "# Kurzer Test, ob alles wie gewünscht funktioniert. \n",
        "x = torch.randn(1, 1, 28, 28)\n",
        "z = Encoder.forward(x)\n",
        "print(z.shape)\n",
        "\n",
        "# Seems good!"
      ]
    },
    {
      "cell_type": "code",
      "execution_count": null,
      "metadata": {
        "id": "3dbt-uzL1z_y"
      },
      "outputs": [],
      "source": [
        "\"\"\"\n",
        "Bauen wir nun den Decoder als symmetrisches Gegenstück zum Encoder.\n",
        "Wir haben zum Upsamplen zwei Möglichkeiten: UpSampling (Gegenstück zum Pooling) oder sog. Transposed Convolutions/Deconvolutions\n",
        "(Gegenstück zur Strided Convolution). In diesem Notebook wählen wir letztere.\n",
        "Dadurch, dass 28 (die Seitenlänge von MNIST) keine Potenz von 2 ist, ist es mit dem padding und den Kernelgrößen ein gewisses Gepfusche.\n",
        "Allerdings gibt es im Grunde keine zwingenden Argumente dafür, dass ein Model, welches mit etwas 'unregelmäßigen' Parametern gebaut wird,\n",
        "schlechter performen sollte als ein Model, dessen Seitenlängen in den Layern bspw. immer Vielfache von 2 sind.\n",
        "Das ist letzten Endes eine ästhetische Entscheidung zugunsten von Klarheit und Übersicht und ist nicht primär durch Performance motiviert.\n",
        "\"\"\"\n",
        "class Decoder_Model(nn.Module):\n",
        "    # ------------------------------------------------- #\n",
        "    # Konstruktor\n",
        "    def __init__(self):\n",
        "        super().__init__()\n",
        "        # FC Layer\n",
        "        self.fc = nn.Linear(\n",
        "            in_features=9,\n",
        "            out_features=4*4*64)\n",
        "        \n",
        "        # Conv2Dtrans1\n",
        "        self.convtrans1 = nn.ConvTranspose2d(\n",
        "            in_channels=64, \n",
        "            out_channels=32, \n",
        "            kernel_size=3,\n",
        "            stride=2,\n",
        "            padding=(1,1))\n",
        "\n",
        "        # Conv2Dtrans2\n",
        "        self.convtrans2 = nn.ConvTranspose2d(\n",
        "            in_channels=32, \n",
        "            out_channels=16, \n",
        "            kernel_size=3,\n",
        "            stride=2,\n",
        "            padding=(1,1))\n",
        "\n",
        "        # Conv2Dtrans3\n",
        "        self.convtrans3 = nn.ConvTranspose2d(\n",
        "            in_channels=16, \n",
        "            out_channels=1, \n",
        "            kernel_size=4,\n",
        "            stride=2,\n",
        "            padding=(0,0))\n",
        "\n",
        "    # ------------------------------------------------- #\n",
        "    # forward-Methode\n",
        "    def forward(self, latent_code_input):\n",
        "        # FC, anschließend reshapen wir den Vektor zu einer Matrix (64, 4, 4)\n",
        "        x = self.fc(latent_code_input)\n",
        "        x = torch.relu(x)\n",
        "        x = torch.reshape(x, (x.shape[0], 64, 4, 4))\n",
        "        # Deconvolution 1\n",
        "        x = self.convtrans1(x)\n",
        "        x = torch.relu(x)\n",
        "        # Deconvolution 2\n",
        "        x = self.convtrans2(x)\n",
        "        x = torch.relu(x)\n",
        "        # Deconvolution 3\n",
        "        x = self.convtrans3(x)\n",
        "        return x"
      ]
    },
    {
      "cell_type": "code",
      "execution_count": null,
      "metadata": {
        "id": "NclehzJg1z_0"
      },
      "outputs": [],
      "source": [
        "# Model definieren\n",
        "Decoder = Decoder_Model()"
      ]
    },
    {
      "cell_type": "code",
      "execution_count": null,
      "metadata": {
        "id": "hZg8J9d81z_1",
        "outputId": "d58d3f1f-c6ac-4948-a60f-82184d608204",
        "colab": {
          "base_uri": "https://localhost:8080/"
        }
      },
      "outputs": [
        {
          "output_type": "stream",
          "name": "stdout",
          "text": [
            "torch.Size([1, 1, 28, 28])\n"
          ]
        }
      ],
      "source": [
        "x = torch.randn(1, 9)\n",
        "z = Decoder.forward(x)\n",
        "print(z.shape)\n",
        "\n",
        "# Gut, die Models stehen."
      ]
    },
    {
      "cell_type": "code",
      "execution_count": null,
      "metadata": {
        "id": "nTiBYOqj1z_2"
      },
      "outputs": [],
      "source": [
        "# Schnappen wir uns unsere GPU bzw. CPU wenn keine GPU vorhanden ist.\n",
        "device = torch.device(\"cuda\" if torch.cuda.is_available() else \"cpu\")\n",
        "\n",
        "# Nun kopieren wir unsere Models auf das device mit der Methode .to\n",
        "Encoder = Encoder.to(device)\n",
        "Decoder = Decoder.to(device)\n",
        "\n",
        "# Den Optimizern in PyTorch übergeben wir die Methode 'parameters' des zu optimierenden Models und die learning rate.\n",
        "opt_encoder = torch.optim.Adam(Encoder.parameters(), lr=1e-3)\n",
        "opt_decoder = torch.optim.Adam(Decoder.parameters(), lr=1e-3)\n",
        "\n",
        "'''\n",
        "Loss-Functions in PyTorch funktionieren wie in Tensorflow. Wir brauchen eine Funktion mit zwei Argumenten (pred, label),\n",
        "die den entsprechenden Fehler errechnet und zurückgibt. Wir wählen für den Autoencoder den 'Mean Squared Error', mit dem wir auch\n",
        "unsere allerersten NNs optimiert haben. Hier bedeutet das, dass für jede Pixelposition der quadrierte Unterschied zwischen dem jeweiligen\n",
        "Pixel im Originalbild/Label und der Rekonstruktion durch das Model berechnet wird. Wir erhalten also 28x28 Skalare. Aus diesen wird dann der\n",
        "'mean'/Durchschnitt berechnet, um einen einzigen Skalar zu produzieren.\n",
        "'''\n",
        "def mse_loss(pred, label):\n",
        "    loss = torch.mean((pred - label)**2)\n",
        "    return loss"
      ]
    },
    {
      "cell_type": "code",
      "execution_count": null,
      "metadata": {
        "id": "bCqiRJrD1z_3",
        "outputId": "abb0b11a-87bc-4070-8e3d-48e816fd2e35",
        "colab": {
          "base_uri": "https://localhost:8080/",
          "height": 484,
          "referenced_widgets": [
            "ea86f6789ac34f9284e9b76885f1c131",
            "52ef7a9194d243ef9963fe0d5631e4b4",
            "07f9e08e3b74467fac724c32e2141b90",
            "16fad7cc10214283a1105df1f86b2d1d",
            "4f1f726f854043739ffa08363b94e95e",
            "fda9ae508c5c4cf79b740e14f4301a83",
            "b97ece0f66b24ca8aa9d4e18104c2ba9",
            "d3acb21a6a484b3baea4b8935df29fbe",
            "afa840dca3d84461855e50a258499559",
            "2763765113c34fbabce231643629b1ff",
            "8c5082ea85ce4e428a0c6742ce2ac436",
            "43c67da6aae840ebae9561081e0fe34f",
            "afec8b55f769425b8fc0ce814ad07054",
            "17d8750683c4478387a01bb2abe63e92",
            "4fda8e3059974f50b1bd9a987fc30beb",
            "f54631f593dc443d99406ce62820b890",
            "ceefedece0b542508704a355dc18c0d7",
            "a913198f7b134d6695a109b75705cdf9",
            "32463c7d2fb94cfab94260880bedc92c",
            "0eac198fd4fa420ebff4ad11ce0e550c",
            "43c30fd96e2f4e9f8aedb6e5bc613e7c",
            "e521fa05aec84174a6be068fe2bf2797",
            "8c20586713344074a95977584ffe67e7",
            "246334167b64489aa2dd05fa78b6216e",
            "da34a1d58bb14fdb98c6c4fa498fd967",
            "d69fbf09fad54bfc8f56455114409315",
            "1c65a4de45ef4558a58af0981837ed84",
            "221070b7c2134f7d85e14d3f808ec196",
            "27c4e468434a4f95b61a4ac2091e9e98",
            "70398114a752435590c18bb3fc81f949",
            "b1fa8eae92094c4aabc42fe6eb8711e6",
            "728d262f18054071baa19e2dc04436ca",
            "e193d6c7768f45eaa66825a8a07f660c",
            "15b55896abc0465bad7225604509063c",
            "311882ed882f43d5884508048ff49125",
            "36d0c9837d1c4e32a3cdfe5f5e1b072a",
            "4ca4e1ccc248401d943bc8c2a1789bff",
            "a288a5dc79fe4408b8813193af585a14",
            "45b5275da3c5456b8e82902cb48ed7a5",
            "8f462d874b094a77b1570f9f316ecc0f",
            "a38c18c4e0c2443e833ef7607ad87912",
            "375c1166f7aa4e548e4364a1616b99aa",
            "e5b868ba52cf4a3e8b64b76237fe32af",
            "d481a172c4ca4afd951b83527df3c562"
          ]
        }
      },
      "outputs": [
        {
          "output_type": "stream",
          "name": "stdout",
          "text": [
            "Downloading http://yann.lecun.com/exdb/mnist/train-images-idx3-ubyte.gz\n",
            "Downloading http://yann.lecun.com/exdb/mnist/train-images-idx3-ubyte.gz to /root/torch_datasets/MNIST/raw/train-images-idx3-ubyte.gz\n"
          ]
        },
        {
          "output_type": "display_data",
          "data": {
            "text/plain": [
              "  0%|          | 0/9912422 [00:00<?, ?it/s]"
            ],
            "application/vnd.jupyter.widget-view+json": {
              "version_major": 2,
              "version_minor": 0,
              "model_id": "ea86f6789ac34f9284e9b76885f1c131"
            }
          },
          "metadata": {}
        },
        {
          "output_type": "stream",
          "name": "stdout",
          "text": [
            "Extracting /root/torch_datasets/MNIST/raw/train-images-idx3-ubyte.gz to /root/torch_datasets/MNIST/raw\n",
            "\n",
            "Downloading http://yann.lecun.com/exdb/mnist/train-labels-idx1-ubyte.gz\n",
            "Downloading http://yann.lecun.com/exdb/mnist/train-labels-idx1-ubyte.gz to /root/torch_datasets/MNIST/raw/train-labels-idx1-ubyte.gz\n"
          ]
        },
        {
          "output_type": "display_data",
          "data": {
            "text/plain": [
              "  0%|          | 0/28881 [00:00<?, ?it/s]"
            ],
            "application/vnd.jupyter.widget-view+json": {
              "version_major": 2,
              "version_minor": 0,
              "model_id": "43c67da6aae840ebae9561081e0fe34f"
            }
          },
          "metadata": {}
        },
        {
          "output_type": "stream",
          "name": "stdout",
          "text": [
            "Extracting /root/torch_datasets/MNIST/raw/train-labels-idx1-ubyte.gz to /root/torch_datasets/MNIST/raw\n",
            "\n",
            "Downloading http://yann.lecun.com/exdb/mnist/t10k-images-idx3-ubyte.gz\n",
            "Downloading http://yann.lecun.com/exdb/mnist/t10k-images-idx3-ubyte.gz to /root/torch_datasets/MNIST/raw/t10k-images-idx3-ubyte.gz\n"
          ]
        },
        {
          "output_type": "display_data",
          "data": {
            "text/plain": [
              "  0%|          | 0/1648877 [00:00<?, ?it/s]"
            ],
            "application/vnd.jupyter.widget-view+json": {
              "version_major": 2,
              "version_minor": 0,
              "model_id": "8c20586713344074a95977584ffe67e7"
            }
          },
          "metadata": {}
        },
        {
          "output_type": "stream",
          "name": "stdout",
          "text": [
            "Extracting /root/torch_datasets/MNIST/raw/t10k-images-idx3-ubyte.gz to /root/torch_datasets/MNIST/raw\n",
            "\n",
            "Downloading http://yann.lecun.com/exdb/mnist/t10k-labels-idx1-ubyte.gz\n",
            "Downloading http://yann.lecun.com/exdb/mnist/t10k-labels-idx1-ubyte.gz to /root/torch_datasets/MNIST/raw/t10k-labels-idx1-ubyte.gz\n"
          ]
        },
        {
          "output_type": "display_data",
          "data": {
            "text/plain": [
              "  0%|          | 0/4542 [00:00<?, ?it/s]"
            ],
            "application/vnd.jupyter.widget-view+json": {
              "version_major": 2,
              "version_minor": 0,
              "model_id": "15b55896abc0465bad7225604509063c"
            }
          },
          "metadata": {}
        },
        {
          "output_type": "stream",
          "name": "stdout",
          "text": [
            "Extracting /root/torch_datasets/MNIST/raw/t10k-labels-idx1-ubyte.gz to /root/torch_datasets/MNIST/raw\n",
            "\n"
          ]
        },
        {
          "output_type": "stream",
          "name": "stderr",
          "text": [
            "/usr/local/lib/python3.8/dist-packages/torch/utils/data/dataloader.py:563: UserWarning: This DataLoader will create 4 worker processes in total. Our suggested max number of worker in current system is 2, which is smaller than what this DataLoader is going to create. Please be aware that excessive worker creation might get DataLoader running slow or even freeze, lower the worker number to avoid potential slowness/freeze if necessary.\n",
            "  warnings.warn(_create_warning_msg(\n"
          ]
        }
      ],
      "source": [
        "'''\n",
        "Laden wir nun MNIST. Die Methode torchvision.datasets.MNIST() gibt uns ein Torch-Dataset-Objekt, welches iterierbar ist und Pillow-Images beinhaltet.\n",
        "(Pillow ist eine Bildlibrary mit eigener Datenstruktur. Analog für Numpy wäre ein Numpy-Array). Wir müssten die Images selbst zu Pytorch-Tensoren konvertieren,\n",
        "doch glücklicherweise gibt es in PyTorch sog. 'transforms', die an die obige Methode übergeben werden können und die Konvertierung für uns automatisieren. \n",
        "'''\n",
        "import torchvision\n",
        "\n",
        "transform = torchvision.transforms.Compose([torchvision.transforms.ToTensor()])\n",
        "\n",
        "train_dataset = torchvision.datasets.MNIST(\n",
        "    root=\"~/torch_datasets\", transform=transform, train=True, download=True)\n",
        "\n",
        "'''\n",
        "Das DataLoader-Objekt in PyTorch ist quasi analog zum Tensorflow-Dataset. Mit num_workers können wir die Anzahl der CPU-Kerne einstellen, die Daten\n",
        "abgreifen und an unser Device weiterleiten.\n",
        "'''\n",
        "\n",
        "train_loader = torch.utils.data.DataLoader(\n",
        "    train_dataset,\n",
        "    batch_size=128,\n",
        "    shuffle=True,\n",
        "    num_workers=4)"
      ]
    },
    {
      "cell_type": "code",
      "source": [
        "def sample_z(z_mean, z_log_var):\n",
        "    noise = torch.randn_like(z_mean, device=z_mean.device)\n",
        "    scale = torch.exp(0.5 * z_log_var)\n",
        "    z = z_mean + scale * noise\n",
        "    kl_loss = torch.mean(-0.5 * (1 + z_log_var - torch.square(z_mean) - torch.exp(z_log_var)))\n",
        "    return z, kl_loss"
      ],
      "metadata": {
        "id": "tq_5Kbjk2tFX"
      },
      "execution_count": null,
      "outputs": []
    },
    {
      "cell_type": "code",
      "execution_count": null,
      "metadata": {
        "id": "sUX4q2Q91z_4",
        "outputId": "3ec2f0ce-aabb-4fc9-fd0f-4444de4cb4f1",
        "colab": {
          "base_uri": "https://localhost:8080/",
          "height": 620
        }
      },
      "outputs": [
        {
          "output_type": "stream",
          "name": "stderr",
          "text": [
            "\r  0%|          | 0/469 [00:00<?, ?it/s]/usr/local/lib/python3.8/dist-packages/torch/utils/data/dataloader.py:563: UserWarning: This DataLoader will create 4 worker processes in total. Our suggested max number of worker in current system is 2, which is smaller than what this DataLoader is going to create. Please be aware that excessive worker creation might get DataLoader running slow or even freeze, lower the worker number to avoid potential slowness/freeze if necessary.\n",
            "  warnings.warn(_create_warning_msg(\n",
            "100%|██████████| 469/469 [00:36<00:00, 12.76it/s]\n"
          ]
        },
        {
          "output_type": "stream",
          "name": "stdout",
          "text": [
            "1 20 0.040722532610871644 0.8219094376361251\n"
          ]
        },
        {
          "output_type": "stream",
          "name": "stderr",
          "text": [
            "100%|██████████| 469/469 [00:36<00:00, 12.98it/s]\n"
          ]
        },
        {
          "output_type": "stream",
          "name": "stdout",
          "text": [
            "2 20 0.028212756534089157 1.1646651121090725\n"
          ]
        },
        {
          "output_type": "stream",
          "name": "stderr",
          "text": [
            "100%|██████████| 469/469 [00:34<00:00, 13.56it/s]\n"
          ]
        },
        {
          "output_type": "stream",
          "name": "stdout",
          "text": [
            "3 20 0.026146361695677994 1.2166021515819818\n"
          ]
        },
        {
          "output_type": "stream",
          "name": "stderr",
          "text": [
            "100%|██████████| 469/469 [00:34<00:00, 13.64it/s]\n"
          ]
        },
        {
          "output_type": "stream",
          "name": "stdout",
          "text": [
            "4 20 0.025085621277120575 1.23898361461249\n"
          ]
        },
        {
          "output_type": "stream",
          "name": "stderr",
          "text": [
            "  6%|▌         | 27/469 [00:02<00:38, 11.50it/s]\n"
          ]
        },
        {
          "output_type": "error",
          "ename": "KeyboardInterrupt",
          "evalue": "ignored",
          "traceback": [
            "\u001b[0;31m---------------------------------------------------------------------------\u001b[0m",
            "\u001b[0;31mKeyboardInterrupt\u001b[0m                         Traceback (most recent call last)",
            "\u001b[0;32m<ipython-input-70-cf5213e29e3b>\u001b[0m in \u001b[0;36m<module>\u001b[0;34m\u001b[0m\n\u001b[1;32m     39\u001b[0m         \u001b[0mprint\u001b[0m\u001b[0;34m(\u001b[0m\u001b[0mepoch\u001b[0m \u001b[0;34m+\u001b[0m \u001b[0;36m1\u001b[0m\u001b[0;34m,\u001b[0m \u001b[0mn_epochs\u001b[0m\u001b[0;34m,\u001b[0m \u001b[0mrec_loss_epoch\u001b[0m\u001b[0;34m,\u001b[0m \u001b[0mkl_loss_epoch\u001b[0m\u001b[0;34m)\u001b[0m\u001b[0;34m\u001b[0m\u001b[0;34m\u001b[0m\u001b[0m\n\u001b[1;32m     40\u001b[0m \u001b[0;34m\u001b[0m\u001b[0m\n\u001b[0;32m---> 41\u001b[0;31m \u001b[0mtrain\u001b[0m\u001b[0;34m(\u001b[0m\u001b[0mn_epochs\u001b[0m\u001b[0;34m=\u001b[0m\u001b[0;36m20\u001b[0m\u001b[0;34m)\u001b[0m\u001b[0;34m\u001b[0m\u001b[0;34m\u001b[0m\u001b[0m\n\u001b[0m",
            "\u001b[0;32m<ipython-input-70-cf5213e29e3b>\u001b[0m in \u001b[0;36mtrain\u001b[0;34m(n_epochs)\u001b[0m\n\u001b[1;32m     24\u001b[0m             \u001b[0mtotal_loss\u001b[0m \u001b[0;34m=\u001b[0m \u001b[0mrec_loss\u001b[0m \u001b[0;34m+\u001b[0m \u001b[0mkl_loss\u001b[0m \u001b[0;34m*\u001b[0m \u001b[0;36m0.01\u001b[0m\u001b[0;34m\u001b[0m\u001b[0;34m\u001b[0m\u001b[0m\n\u001b[1;32m     25\u001b[0m             \u001b[0;31m# Gradienten berechnen\u001b[0m\u001b[0;34m\u001b[0m\u001b[0;34m\u001b[0m\u001b[0;34m\u001b[0m\u001b[0m\n\u001b[0;32m---> 26\u001b[0;31m             \u001b[0mtotal_loss\u001b[0m\u001b[0;34m.\u001b[0m\u001b[0mbackward\u001b[0m\u001b[0;34m(\u001b[0m\u001b[0;34m)\u001b[0m\u001b[0;34m\u001b[0m\u001b[0;34m\u001b[0m\u001b[0m\n\u001b[0m\u001b[1;32m     27\u001b[0m             \u001b[0;31m# Gewichte anhand der Gradienten updaten\u001b[0m\u001b[0;34m\u001b[0m\u001b[0;34m\u001b[0m\u001b[0;34m\u001b[0m\u001b[0m\n\u001b[1;32m     28\u001b[0m             \u001b[0mopt_encoder\u001b[0m\u001b[0;34m.\u001b[0m\u001b[0mstep\u001b[0m\u001b[0;34m(\u001b[0m\u001b[0;34m)\u001b[0m\u001b[0;34m\u001b[0m\u001b[0;34m\u001b[0m\u001b[0m\n",
            "\u001b[0;32m/usr/local/lib/python3.8/dist-packages/torch/_tensor.py\u001b[0m in \u001b[0;36mbackward\u001b[0;34m(self, gradient, retain_graph, create_graph, inputs)\u001b[0m\n\u001b[1;32m    394\u001b[0m                 \u001b[0mcreate_graph\u001b[0m\u001b[0;34m=\u001b[0m\u001b[0mcreate_graph\u001b[0m\u001b[0;34m,\u001b[0m\u001b[0;34m\u001b[0m\u001b[0;34m\u001b[0m\u001b[0m\n\u001b[1;32m    395\u001b[0m                 inputs=inputs)\n\u001b[0;32m--> 396\u001b[0;31m         \u001b[0mtorch\u001b[0m\u001b[0;34m.\u001b[0m\u001b[0mautograd\u001b[0m\u001b[0;34m.\u001b[0m\u001b[0mbackward\u001b[0m\u001b[0;34m(\u001b[0m\u001b[0mself\u001b[0m\u001b[0;34m,\u001b[0m \u001b[0mgradient\u001b[0m\u001b[0;34m,\u001b[0m \u001b[0mretain_graph\u001b[0m\u001b[0;34m,\u001b[0m \u001b[0mcreate_graph\u001b[0m\u001b[0;34m,\u001b[0m \u001b[0minputs\u001b[0m\u001b[0;34m=\u001b[0m\u001b[0minputs\u001b[0m\u001b[0;34m)\u001b[0m\u001b[0;34m\u001b[0m\u001b[0;34m\u001b[0m\u001b[0m\n\u001b[0m\u001b[1;32m    397\u001b[0m \u001b[0;34m\u001b[0m\u001b[0m\n\u001b[1;32m    398\u001b[0m     \u001b[0;32mdef\u001b[0m \u001b[0mregister_hook\u001b[0m\u001b[0;34m(\u001b[0m\u001b[0mself\u001b[0m\u001b[0;34m,\u001b[0m \u001b[0mhook\u001b[0m\u001b[0;34m)\u001b[0m\u001b[0;34m:\u001b[0m\u001b[0;34m\u001b[0m\u001b[0;34m\u001b[0m\u001b[0m\n",
            "\u001b[0;32m/usr/local/lib/python3.8/dist-packages/torch/autograd/__init__.py\u001b[0m in \u001b[0;36mbackward\u001b[0;34m(tensors, grad_tensors, retain_graph, create_graph, grad_variables, inputs)\u001b[0m\n\u001b[1;32m    171\u001b[0m     \u001b[0;31m# some Python versions print out the first line of a multi-line function\u001b[0m\u001b[0;34m\u001b[0m\u001b[0;34m\u001b[0m\u001b[0;34m\u001b[0m\u001b[0m\n\u001b[1;32m    172\u001b[0m     \u001b[0;31m# calls in the traceback and some print out the last line\u001b[0m\u001b[0;34m\u001b[0m\u001b[0;34m\u001b[0m\u001b[0;34m\u001b[0m\u001b[0m\n\u001b[0;32m--> 173\u001b[0;31m     Variable._execution_engine.run_backward(  # Calls into the C++ engine to run the backward pass\n\u001b[0m\u001b[1;32m    174\u001b[0m         \u001b[0mtensors\u001b[0m\u001b[0;34m,\u001b[0m \u001b[0mgrad_tensors_\u001b[0m\u001b[0;34m,\u001b[0m \u001b[0mretain_graph\u001b[0m\u001b[0;34m,\u001b[0m \u001b[0mcreate_graph\u001b[0m\u001b[0;34m,\u001b[0m \u001b[0minputs\u001b[0m\u001b[0;34m,\u001b[0m\u001b[0;34m\u001b[0m\u001b[0;34m\u001b[0m\u001b[0m\n\u001b[1;32m    175\u001b[0m         allow_unreachable=True, accumulate_grad=True)  # Calls into the C++ engine to run the backward pass\n",
            "\u001b[0;31mKeyboardInterrupt\u001b[0m: "
          ]
        }
      ],
      "source": [
        "'''\n",
        "Trainingsloop\n",
        "'''\n",
        "from tqdm import tqdm\n",
        "\n",
        "def train(n_epochs):\n",
        "    for epoch in range(n_epochs):\n",
        "        rec_loss_epoch = 0\n",
        "        kl_loss_epoch = 0\n",
        "        pbar = tqdm(train_loader)\n",
        "        for batch_images, _ in pbar:\n",
        "            # Batch auf das device laden\n",
        "            batch_images = batch_images.to(device)\n",
        "            # Gradienten resetten.\n",
        "            opt_encoder.zero_grad()\n",
        "            opt_decoder.zero_grad()\n",
        "            # encodieren\n",
        "            batch_means, batch_logvars = Encoder(batch_images)\n",
        "            batch_latent_codes, kl_loss = sample_z(batch_means, batch_logvars)\n",
        "            # decodieren\n",
        "            batch_reconstructions = Decoder(batch_latent_codes)\n",
        "            # loss berechnen\n",
        "            rec_loss = mse_loss(batch_reconstructions, batch_images)\n",
        "            total_loss = rec_loss + kl_loss * 0.01\n",
        "            # Gradienten berechnen\n",
        "            total_loss.backward()\n",
        "            # Gewichte anhand der Gradienten updaten\n",
        "            opt_encoder.step()\n",
        "            opt_decoder.step()\n",
        "            # Loss zum gesamten Loss der Epoche hinzufügen\n",
        "            rec_loss_epoch += rec_loss.item()\n",
        "            kl_loss_epoch += kl_loss.item()\n",
        "        \n",
        "        # Durchschnittlichen Loss der Epoche berechnen\n",
        "        rec_loss_epoch = rec_loss_epoch / len(train_loader)\n",
        "        kl_loss_epoch = kl_loss_epoch / len(train_loader)\n",
        "        \n",
        "        # Loss der Epochen anzeigen\n",
        "        print(epoch + 1, n_epochs, rec_loss_epoch, kl_loss_epoch)\n",
        "\n",
        "train(n_epochs=20)"
      ]
    },
    {
      "cell_type": "code",
      "execution_count": null,
      "metadata": {
        "id": "n6kWDrrv1z_5"
      },
      "outputs": [],
      "source": [
        "\"\"\"\n",
        "Def Loss scheint nicht weiter zu sinken, d.h. unser NN ist bereits am Limit. Visualisieren wir einmal die Rekonstruktions-Fähigkeit des Models.\n",
        "\"\"\"\n",
        "def plot_results(imgs):\n",
        "    plt.figure(figsize=(10, 10))\n",
        "    # MNIST hat die Norm [0, 1], daher müssen wir mit 255 multiplizieren, um auf uint8 zu konvertieren\n",
        "    imgs = [np.uint8(np.clip(img*255, 0, 255)) for img in imgs]\n",
        "    imgs = [cv2.cvtColor(img, cv2.COLOR_BGR2RGB) for img in imgs]\n",
        "    for i in range(9):\n",
        "        ax = plt.subplot(3, 3, i + 1)\n",
        "        img = imgs[i]\n",
        "        plt.imshow(img)\n",
        "        plt.axis(\"off\")\n",
        "\n",
        "test_examples = []\n",
        "for i in range(9):\n",
        "    x = torch.unsqueeze(train_dataset[i][0], 0)\n",
        "    test_examples.append(x)\n",
        "test_examples = torch.concat(test_examples)\n",
        "\n",
        "test_reconstructions = Decoder(Encoder(test_examples))\n",
        "# Original und Rekonstruktion entlang der Breite konkatenieren\n",
        "im_vergleich = [np.concatenate((x.cpu().detach().numpy(), y.cpu().detach().numpy()), axis=2) for x, y in zip(test_examples, test_reconstructions)]\n",
        "im_vergleich = [np.transpose(x, (1,2,0)) for x in im_vergleich]"
      ]
    },
    {
      "cell_type": "code",
      "source": [
        "a = torch.randn((1,9)).to(device)\n",
        "b = torch.randn((1,9)).to(device)\n",
        "\n",
        "zs = []\n",
        "ws = np.linspace(0,1,9)\n",
        "for w in ws:\n",
        "  print(w, (1-w))\n",
        "  z = a * w + b * (1-w)\n",
        "  zs.append(z)\n",
        "\n",
        "zs = torch.concat(zs)\n",
        "print(zs.shape)\n",
        "generated = Decoder(zs)\n",
        "im_vergleich = [x.cpu().detach().numpy() for x in generated]\n",
        "im_vergleich = [np.transpose(x, (1,2,0)) for x in im_vergleich]"
      ],
      "metadata": {
        "id": "3HJt_E20DHP6",
        "outputId": "5bdafdf4-0c16-4c90-d04f-2a087e96af91",
        "colab": {
          "base_uri": "https://localhost:8080/"
        }
      },
      "execution_count": null,
      "outputs": [
        {
          "output_type": "stream",
          "name": "stdout",
          "text": [
            "0.0 1.0\n",
            "0.125 0.875\n",
            "0.25 0.75\n",
            "0.375 0.625\n",
            "0.5 0.5\n",
            "0.625 0.375\n",
            "0.75 0.25\n",
            "0.875 0.125\n",
            "1.0 0.0\n",
            "torch.Size([9, 9])\n"
          ]
        }
      ]
    },
    {
      "cell_type": "code",
      "source": [
        "plot_results(im_vergleich)"
      ],
      "metadata": {
        "id": "Ll7cFFdvBGqN",
        "outputId": "b9356a99-495a-4130-bda5-17dcdb2d7cde",
        "colab": {
          "base_uri": "https://localhost:8080/",
          "height": 575
        }
      },
      "execution_count": null,
      "outputs": [
        {
          "output_type": "display_data",
          "data": {
            "text/plain": [
              "<Figure size 720x720 with 9 Axes>"
            ],
            "image/png": "[encoded data removed]"
          },
          "metadata": {
            "needs_background": "light"
          }
        }
      ]
    }
  ],
  "metadata": {
    "interpreter": {
      "hash": "c72c33be0962ac487280757bb3a776dab5448b4c203a17148c0aa550a18915f1"
    },
    "kernelspec": {
      "display_name": "Python 3.9.10 64-bit",
      "language": "python",
      "name": "python3"
    },
    "language_info": {
      "codemirror_mode": {
        "name": "ipython",
        "version": 3
      },
      "file_extension": ".py",
      "mimetype": "text/x-python",
      "name": "python",
      "nbconvert_exporter": "python",
      "pygments_lexer": "ipython3",
      "version": "3.7.11"
    },
    "orig_nbformat": 4,
    "colab": {
      "provenance": []
    },
    "widgets": {
      "application/vnd.jupyter.widget-state+json": {
        "ea86f6789ac34f9284e9b76885f1c131": {
          "model_module": "@jupyter-widgets/controls",
          "model_name": "HBoxModel",
          "model_module_version": "1.5.0",
          "state": {
            "_dom_classes": [],
            "_model_module": "@jupyter-widgets/controls",
            "_model_module_version": "1.5.0",
            "_model_name": "HBoxModel",
            "_view_count": null,
            "_view_module": "@jupyter-widgets/controls",
            "_view_module_version": "1.5.0",
            "_view_name": "HBoxView",
            "box_style": "",
            "children": [
              "IPY_MODEL_52ef7a9194d243ef9963fe0d5631e4b4",
              "IPY_MODEL_07f9e08e3b74467fac724c32e2141b90",
              "IPY_MODEL_16fad7cc10214283a1105df1f86b2d1d"
            ],
            "layout": "IPY_MODEL_4f1f726f854043739ffa08363b94e95e"
          }
        },
        "52ef7a9194d243ef9963fe0d5631e4b4": {
          "model_module": "@jupyter-widgets/controls",
          "model_name": "HTMLModel",
          "model_module_version": "1.5.0",
          "state": {
            "_dom_classes": [],
            "_model_module": "@jupyter-widgets/controls",
            "_model_module_version": "1.5.0",
            "_model_name": "HTMLModel",
            "_view_count": null,
            "_view_module": "@jupyter-widgets/controls",
            "_view_module_version": "1.5.0",
            "_view_name": "HTMLView",
            "description": "",
            "description_tooltip": null,
            "layout": "IPY_MODEL_fda9ae508c5c4cf79b740e14f4301a83",
            "placeholder": "​",
            "style": "IPY_MODEL_b97ece0f66b24ca8aa9d4e18104c2ba9",
            "value": "100%"
          }
        },
        "07f9e08e3b74467fac724c32e2141b90": {
          "model_module": "@jupyter-widgets/controls",
          "model_name": "FloatProgressModel",
          "model_module_version": "1.5.0",
          "state": {
            "_dom_classes": [],
            "_model_module": "@jupyter-widgets/controls",
            "_model_module_version": "1.5.0",
            "_model_name": "FloatProgressModel",
            "_view_count": null,
            "_view_module": "@jupyter-widgets/controls",
            "_view_module_version": "1.5.0",
            "_view_name": "ProgressView",
            "bar_style": "success",
            "description": "",
            "description_tooltip": null,
            "layout": "IPY_MODEL_d3acb21a6a484b3baea4b8935df29fbe",
            "max": 9912422,
            "min": 0,
            "orientation": "horizontal",
            "style": "IPY_MODEL_afa840dca3d84461855e50a258499559",
            "value": 9912422
          }
        },
        "16fad7cc10214283a1105df1f86b2d1d": {
          "model_module": "@jupyter-widgets/controls",
          "model_name": "HTMLModel",
          "model_module_version": "1.5.0",
          "state": {
            "_dom_classes": [],
            "_model_module": "@jupyter-widgets/controls",
            "_model_module_version": "1.5.0",
            "_model_name": "HTMLModel",
            "_view_count": null,
            "_view_module": "@jupyter-widgets/controls",
            "_view_module_version": "1.5.0",
            "_view_name": "HTMLView",
            "description": "",
            "description_tooltip": null,
            "layout": "IPY_MODEL_2763765113c34fbabce231643629b1ff",
            "placeholder": "​",
            "style": "IPY_MODEL_8c5082ea85ce4e428a0c6742ce2ac436",
            "value": " 9912422/9912422 [00:00&lt;00:00, 14501719.72it/s]"
          }
        },
        "4f1f726f854043739ffa08363b94e95e": {
          "model_module": "@jupyter-widgets/base",
          "model_name": "LayoutModel",
          "model_module_version": "1.2.0",
          "state": {
            "_model_module": "@jupyter-widgets/base",
            "_model_module_version": "1.2.0",
            "_model_name": "LayoutModel",
            "_view_count": null,
            "_view_module": "@jupyter-widgets/base",
            "_view_module_version": "1.2.0",
            "_view_name": "LayoutView",
            "align_content": null,
            "align_items": null,
            "align_self": null,
            "border": null,
            "bottom": null,
            "display": null,
            "flex": null,
            "flex_flow": null,
            "grid_area": null,
            "grid_auto_columns": null,
            "grid_auto_flow": null,
            "grid_auto_rows": null,
            "grid_column": null,
            "grid_gap": null,
            "grid_row": null,
            "grid_template_areas": null,
            "grid_template_columns": null,
            "grid_template_rows": null,
            "height": null,
            "justify_content": null,
            "justify_items": null,
            "left": null,
            "margin": null,
            "max_height": null,
            "max_width": null,
            "min_height": null,
            "min_width": null,
            "object_fit": null,
            "object_position": null,
            "order": null,
            "overflow": null,
            "overflow_x": null,
            "overflow_y": null,
            "padding": null,
            "right": null,
            "top": null,
            "visibility": null,
            "width": null
          }
        },
        "fda9ae508c5c4cf79b740e14f4301a83": {
          "model_module": "@jupyter-widgets/base",
          "model_name": "LayoutModel",
          "model_module_version": "1.2.0",
          "state": {
            "_model_module": "@jupyter-widgets/base",
            "_model_module_version": "1.2.0",
            "_model_name": "LayoutModel",
            "_view_count": null,
            "_view_module": "@jupyter-widgets/base",
            "_view_module_version": "1.2.0",
            "_view_name": "LayoutView",
            "align_content": null,
            "align_items": null,
            "align_self": null,
            "border": null,
            "bottom": null,
            "display": null,
            "flex": null,
            "flex_flow": null,
            "grid_area": null,
            "grid_auto_columns": null,
            "grid_auto_flow": null,
            "grid_auto_rows": null,
            "grid_column": null,
            "grid_gap": null,
            "grid_row": null,
            "grid_template_areas": null,
            "grid_template_columns": null,
            "grid_template_rows": null,
            "height": null,
            "justify_content": null,
            "justify_items": null,
            "left": null,
            "margin": null,
            "max_height": null,
            "max_width": null,
            "min_height": null,
            "min_width": null,
            "object_fit": null,
            "object_position": null,
            "order": null,
            "overflow": null,
            "overflow_x": null,
            "overflow_y": null,
            "padding": null,
            "right": null,
            "top": null,
            "visibility": null,
            "width": null
          }
        },
        "b97ece0f66b24ca8aa9d4e18104c2ba9": {
          "model_module": "@jupyter-widgets/controls",
          "model_name": "DescriptionStyleModel",
          "model_module_version": "1.5.0",
          "state": {
            "_model_module": "@jupyter-widgets/controls",
            "_model_module_version": "1.5.0",
            "_model_name": "DescriptionStyleModel",
            "_view_count": null,
            "_view_module": "@jupyter-widgets/base",
            "_view_module_version": "1.2.0",
            "_view_name": "StyleView",
            "description_width": ""
          }
        },
        "d3acb21a6a484b3baea4b8935df29fbe": {
          "model_module": "@jupyter-widgets/base",
          "model_name": "LayoutModel",
          "model_module_version": "1.2.0",
          "state": {
            "_model_module": "@jupyter-widgets/base",
            "_model_module_version": "1.2.0",
            "_model_name": "LayoutModel",
            "_view_count": null,
            "_view_module": "@jupyter-widgets/base",
            "_view_module_version": "1.2.0",
            "_view_name": "LayoutView",
            "align_content": null,
            "align_items": null,
            "align_self": null,
            "border": null,
            "bottom": null,
            "display": null,
            "flex": null,
            "flex_flow": null,
            "grid_area": null,
            "grid_auto_columns": null,
            "grid_auto_flow": null,
            "grid_auto_rows": null,
            "grid_column": null,
            "grid_gap": null,
            "grid_row": null,
            "grid_template_areas": null,
            "grid_template_columns": null,
            "grid_template_rows": null,
            "height": null,
            "justify_content": null,
            "justify_items": null,
            "left": null,
            "margin": null,
            "max_height": null,
            "max_width": null,
            "min_height": null,
            "min_width": null,
            "object_fit": null,
            "object_position": null,
            "order": null,
            "overflow": null,
            "overflow_x": null,
            "overflow_y": null,
            "padding": null,
            "right": null,
            "top": null,
            "visibility": null,
            "width": null
          }
        },
        "afa840dca3d84461855e50a258499559": {
          "model_module": "@jupyter-widgets/controls",
          "model_name": "ProgressStyleModel",
          "model_module_version": "1.5.0",
          "state": {
            "_model_module": "@jupyter-widgets/controls",
            "_model_module_version": "1.5.0",
            "_model_name": "ProgressStyleModel",
            "_view_count": null,
            "_view_module": "@jupyter-widgets/base",
            "_view_module_version": "1.2.0",
            "_view_name": "StyleView",
            "bar_color": null,
            "description_width": ""
          }
        },
        "2763765113c34fbabce231643629b1ff": {
          "model_module": "@jupyter-widgets/base",
          "model_name": "LayoutModel",
          "model_module_version": "1.2.0",
          "state": {
            "_model_module": "@jupyter-widgets/base",
            "_model_module_version": "1.2.0",
            "_model_name": "LayoutModel",
            "_view_count": null,
            "_view_module": "@jupyter-widgets/base",
            "_view_module_version": "1.2.0",
            "_view_name": "LayoutView",
            "align_content": null,
            "align_items": null,
            "align_self": null,
            "border": null,
            "bottom": null,
            "display": null,
            "flex": null,
            "flex_flow": null,
            "grid_area": null,
            "grid_auto_columns": null,
            "grid_auto_flow": null,
            "grid_auto_rows": null,
            "grid_column": null,
            "grid_gap": null,
            "grid_row": null,
            "grid_template_areas": null,
            "grid_template_columns": null,
            "grid_template_rows": null,
            "height": null,
            "justify_content": null,
            "justify_items": null,
            "left": null,
            "margin": null,
            "max_height": null,
            "max_width": null,
            "min_height": null,
            "min_width": null,
            "object_fit": null,
            "object_position": null,
            "order": null,
            "overflow": null,
            "overflow_x": null,
            "overflow_y": null,
            "padding": null,
            "right": null,
            "top": null,
            "visibility": null,
            "width": null
          }
        },
        "8c5082ea85ce4e428a0c6742ce2ac436": {
          "model_module": "@jupyter-widgets/controls",
          "model_name": "DescriptionStyleModel",
          "model_module_version": "1.5.0",
          "state": {
            "_model_module": "@jupyter-widgets/controls",
            "_model_module_version": "1.5.0",
            "_model_name": "DescriptionStyleModel",
            "_view_count": null,
            "_view_module": "@jupyter-widgets/base",
            "_view_module_version": "1.2.0",
            "_view_name": "StyleView",
            "description_width": ""
          }
        },
        "43c67da6aae840ebae9561081e0fe34f": {
          "model_module": "@jupyter-widgets/controls",
          "model_name": "HBoxModel",
          "model_module_version": "1.5.0",
          "state": {
            "_dom_classes": [],
            "_model_module": "@jupyter-widgets/controls",
            "_model_module_version": "1.5.0",
            "_model_name": "HBoxModel",
            "_view_count": null,
            "_view_module": "@jupyter-widgets/controls",
            "_view_module_version": "1.5.0",
            "_view_name": "HBoxView",
            "box_style": "",
            "children": [
              "IPY_MODEL_afec8b55f769425b8fc0ce814ad07054",
              "IPY_MODEL_17d8750683c4478387a01bb2abe63e92",
              "IPY_MODEL_4fda8e3059974f50b1bd9a987fc30beb"
            ],
            "layout": "IPY_MODEL_f54631f593dc443d99406ce62820b890"
          }
        },
        "afec8b55f769425b8fc0ce814ad07054": {
          "model_module": "@jupyter-widgets/controls",
          "model_name": "HTMLModel",
          "model_module_version": "1.5.0",
          "state": {
            "_dom_classes": [],
            "_model_module": "@jupyter-widgets/controls",
            "_model_module_version": "1.5.0",
            "_model_name": "HTMLModel",
            "_view_count": null,
            "_view_module": "@jupyter-widgets/controls",
            "_view_module_version": "1.5.0",
            "_view_name": "HTMLView",
            "description": "",
            "description_tooltip": null,
            "layout": "IPY_MODEL_ceefedece0b542508704a355dc18c0d7",
            "placeholder": "​",
            "style": "IPY_MODEL_a913198f7b134d6695a109b75705cdf9",
            "value": "100%"
          }
        },
        "17d8750683c4478387a01bb2abe63e92": {
          "model_module": "@jupyter-widgets/controls",
          "model_name": "FloatProgressModel",
          "model_module_version": "1.5.0",
          "state": {
            "_dom_classes": [],
            "_model_module": "@jupyter-widgets/controls",
            "_model_module_version": "1.5.0",
            "_model_name": "FloatProgressModel",
            "_view_count": null,
            "_view_module": "@jupyter-widgets/controls",
            "_view_module_version": "1.5.0",
            "_view_name": "ProgressView",
            "bar_style": "success",
            "description": "",
            "description_tooltip": null,
            "layout": "IPY_MODEL_32463c7d2fb94cfab94260880bedc92c",
            "max": 28881,
            "min": 0,
            "orientation": "horizontal",
            "style": "IPY_MODEL_0eac198fd4fa420ebff4ad11ce0e550c",
            "value": 28881
          }
        },
        "4fda8e3059974f50b1bd9a987fc30beb": {
          "model_module": "@jupyter-widgets/controls",
          "model_name": "HTMLModel",
          "model_module_version": "1.5.0",
          "state": {
            "_dom_classes": [],
            "_model_module": "@jupyter-widgets/controls",
            "_model_module_version": "1.5.0",
            "_model_name": "HTMLModel",
            "_view_count": null,
            "_view_module": "@jupyter-widgets/controls",
            "_view_module_version": "1.5.0",
            "_view_name": "HTMLView",
            "description": "",
            "description_tooltip": null,
            "layout": "IPY_MODEL_43c30fd96e2f4e9f8aedb6e5bc613e7c",
            "placeholder": "​",
            "style": "IPY_MODEL_e521fa05aec84174a6be068fe2bf2797",
            "value": " 28881/28881 [00:00&lt;00:00, 420903.80it/s]"
          }
        },
        "f54631f593dc443d99406ce62820b890": {
          "model_module": "@jupyter-widgets/base",
          "model_name": "LayoutModel",
          "model_module_version": "1.2.0",
          "state": {
            "_model_module": "@jupyter-widgets/base",
            "_model_module_version": "1.2.0",
            "_model_name": "LayoutModel",
            "_view_count": null,
            "_view_module": "@jupyter-widgets/base",
            "_view_module_version": "1.2.0",
            "_view_name": "LayoutView",
            "align_content": null,
            "align_items": null,
            "align_self": null,
            "border": null,
            "bottom": null,
            "display": null,
            "flex": null,
            "flex_flow": null,
            "grid_area": null,
            "grid_auto_columns": null,
            "grid_auto_flow": null,
            "grid_auto_rows": null,
            "grid_column": null,
            "grid_gap": null,
            "grid_row": null,
            "grid_template_areas": null,
            "grid_template_columns": null,
            "grid_template_rows": null,
            "height": null,
            "justify_content": null,
            "justify_items": null,
            "left": null,
            "margin": null,
            "max_height": null,
            "max_width": null,
            "min_height": null,
            "min_width": null,
            "object_fit": null,
            "object_position": null,
            "order": null,
            "overflow": null,
            "overflow_x": null,
            "overflow_y": null,
            "padding": null,
            "right": null,
            "top": null,
            "visibility": null,
            "width": null
          }
        },
        "ceefedece0b542508704a355dc18c0d7": {
          "model_module": "@jupyter-widgets/base",
          "model_name": "LayoutModel",
          "model_module_version": "1.2.0",
          "state": {
            "_model_module": "@jupyter-widgets/base",
            "_model_module_version": "1.2.0",
            "_model_name": "LayoutModel",
            "_view_count": null,
            "_view_module": "@jupyter-widgets/base",
            "_view_module_version": "1.2.0",
            "_view_name": "LayoutView",
            "align_content": null,
            "align_items": null,
            "align_self": null,
            "border": null,
            "bottom": null,
            "display": null,
            "flex": null,
            "flex_flow": null,
            "grid_area": null,
            "grid_auto_columns": null,
            "grid_auto_flow": null,
            "grid_auto_rows": null,
            "grid_column": null,
            "grid_gap": null,
            "grid_row": null,
            "grid_template_areas": null,
            "grid_template_columns": null,
            "grid_template_rows": null,
            "height": null,
            "justify_content": null,
            "justify_items": null,
            "left": null,
            "margin": null,
            "max_height": null,
            "max_width": null,
            "min_height": null,
            "min_width": null,
            "object_fit": null,
            "object_position": null,
            "order": null,
            "overflow": null,
            "overflow_x": null,
            "overflow_y": null,
            "padding": null,
            "right": null,
            "top": null,
            "visibility": null,
            "width": null
          }
        },
        "a913198f7b134d6695a109b75705cdf9": {
          "model_module": "@jupyter-widgets/controls",
          "model_name": "DescriptionStyleModel",
          "model_module_version": "1.5.0",
          "state": {
            "_model_module": "@jupyter-widgets/controls",
            "_model_module_version": "1.5.0",
            "_model_name": "DescriptionStyleModel",
            "_view_count": null,
            "_view_module": "@jupyter-widgets/base",
            "_view_module_version": "1.2.0",
            "_view_name": "StyleView",
            "description_width": ""
          }
        },
        "32463c7d2fb94cfab94260880bedc92c": {
          "model_module": "@jupyter-widgets/base",
          "model_name": "LayoutModel",
          "model_module_version": "1.2.0",
          "state": {
            "_model_module": "@jupyter-widgets/base",
            "_model_module_version": "1.2.0",
            "_model_name": "LayoutModel",
            "_view_count": null,
            "_view_module": "@jupyter-widgets/base",
            "_view_module_version": "1.2.0",
            "_view_name": "LayoutView",
            "align_content": null,
            "align_items": null,
            "align_self": null,
            "border": null,
            "bottom": null,
            "display": null,
            "flex": null,
            "flex_flow": null,
            "grid_area": null,
            "grid_auto_columns": null,
            "grid_auto_flow": null,
            "grid_auto_rows": null,
            "grid_column": null,
            "grid_gap": null,
            "grid_row": null,
            "grid_template_areas": null,
            "grid_template_columns": null,
            "grid_template_rows": null,
            "height": null,
            "justify_content": null,
            "justify_items": null,
            "left": null,
            "margin": null,
            "max_height": null,
            "max_width": null,
            "min_height": null,
            "min_width": null,
            "object_fit": null,
            "object_position": null,
            "order": null,
            "overflow": null,
            "overflow_x": null,
            "overflow_y": null,
            "padding": null,
            "right": null,
            "top": null,
            "visibility": null,
            "width": null
          }
        },
        "0eac198fd4fa420ebff4ad11ce0e550c": {
          "model_module": "@jupyter-widgets/controls",
          "model_name": "ProgressStyleModel",
          "model_module_version": "1.5.0",
          "state": {
            "_model_module": "@jupyter-widgets/controls",
            "_model_module_version": "1.5.0",
            "_model_name": "ProgressStyleModel",
            "_view_count": null,
            "_view_module": "@jupyter-widgets/base",
            "_view_module_version": "1.2.0",
            "_view_name": "StyleView",
            "bar_color": null,
            "description_width": ""
          }
        },
        "43c30fd96e2f4e9f8aedb6e5bc613e7c": {
          "model_module": "@jupyter-widgets/base",
          "model_name": "LayoutModel",
          "model_module_version": "1.2.0",
          "state": {
            "_model_module": "@jupyter-widgets/base",
            "_model_module_version": "1.2.0",
            "_model_name": "LayoutModel",
            "_view_count": null,
            "_view_module": "@jupyter-widgets/base",
            "_view_module_version": "1.2.0",
            "_view_name": "LayoutView",
            "align_content": null,
            "align_items": null,
            "align_self": null,
            "border": null,
            "bottom": null,
            "display": null,
            "flex": null,
            "flex_flow": null,
            "grid_area": null,
            "grid_auto_columns": null,
            "grid_auto_flow": null,
            "grid_auto_rows": null,
            "grid_column": null,
            "grid_gap": null,
            "grid_row": null,
            "grid_template_areas": null,
            "grid_template_columns": null,
            "grid_template_rows": null,
            "height": null,
            "justify_content": null,
            "justify_items": null,
            "left": null,
            "margin": null,
            "max_height": null,
            "max_width": null,
            "min_height": null,
            "min_width": null,
            "object_fit": null,
            "object_position": null,
            "order": null,
            "overflow": null,
            "overflow_x": null,
            "overflow_y": null,
            "padding": null,
            "right": null,
            "top": null,
            "visibility": null,
            "width": null
          }
        },
        "e521fa05aec84174a6be068fe2bf2797": {
          "model_module": "@jupyter-widgets/controls",
          "model_name": "DescriptionStyleModel",
          "model_module_version": "1.5.0",
          "state": {
            "_model_module": "@jupyter-widgets/controls",
            "_model_module_version": "1.5.0",
            "_model_name": "DescriptionStyleModel",
            "_view_count": null,
            "_view_module": "@jupyter-widgets/base",
            "_view_module_version": "1.2.0",
            "_view_name": "StyleView",
            "description_width": ""
          }
        },
        "8c20586713344074a95977584ffe67e7": {
          "model_module": "@jupyter-widgets/controls",
          "model_name": "HBoxModel",
          "model_module_version": "1.5.0",
          "state": {
            "_dom_classes": [],
            "_model_module": "@jupyter-widgets/controls",
            "_model_module_version": "1.5.0",
            "_model_name": "HBoxModel",
            "_view_count": null,
            "_view_module": "@jupyter-widgets/controls",
            "_view_module_version": "1.5.0",
            "_view_name": "HBoxView",
            "box_style": "",
            "children": [
              "IPY_MODEL_246334167b64489aa2dd05fa78b6216e",
              "IPY_MODEL_da34a1d58bb14fdb98c6c4fa498fd967",
              "IPY_MODEL_d69fbf09fad54bfc8f56455114409315"
            ],
            "layout": "IPY_MODEL_1c65a4de45ef4558a58af0981837ed84"
          }
        },
        "246334167b64489aa2dd05fa78b6216e": {
          "model_module": "@jupyter-widgets/controls",
          "model_name": "HTMLModel",
          "model_module_version": "1.5.0",
          "state": {
            "_dom_classes": [],
            "_model_module": "@jupyter-widgets/controls",
            "_model_module_version": "1.5.0",
            "_model_name": "HTMLModel",
            "_view_count": null,
            "_view_module": "@jupyter-widgets/controls",
            "_view_module_version": "1.5.0",
            "_view_name": "HTMLView",
            "description": "",
            "description_tooltip": null,
            "layout": "IPY_MODEL_221070b7c2134f7d85e14d3f808ec196",
            "placeholder": "​",
            "style": "IPY_MODEL_27c4e468434a4f95b61a4ac2091e9e98",
            "value": "100%"
          }
        },
        "da34a1d58bb14fdb98c6c4fa498fd967": {
          "model_module": "@jupyter-widgets/controls",
          "model_name": "FloatProgressModel",
          "model_module_version": "1.5.0",
          "state": {
            "_dom_classes": [],
            "_model_module": "@jupyter-widgets/controls",
            "_model_module_version": "1.5.0",
            "_model_name": "FloatProgressModel",
            "_view_count": null,
            "_view_module": "@jupyter-widgets/controls",
            "_view_module_version": "1.5.0",
            "_view_name": "ProgressView",
            "bar_style": "success",
            "description": "",
            "description_tooltip": null,
            "layout": "IPY_MODEL_70398114a752435590c18bb3fc81f949",
            "max": 1648877,
            "min": 0,
            "orientation": "horizontal",
            "style": "IPY_MODEL_b1fa8eae92094c4aabc42fe6eb8711e6",
            "value": 1648877
          }
        },
        "d69fbf09fad54bfc8f56455114409315": {
          "model_module": "@jupyter-widgets/controls",
          "model_name": "HTMLModel",
          "model_module_version": "1.5.0",
          "state": {
            "_dom_classes": [],
            "_model_module": "@jupyter-widgets/controls",
            "_model_module_version": "1.5.0",
            "_model_name": "HTMLModel",
            "_view_count": null,
            "_view_module": "@jupyter-widgets/controls",
            "_view_module_version": "1.5.0",
            "_view_name": "HTMLView",
            "description": "",
            "description_tooltip": null,
            "layout": "IPY_MODEL_728d262f18054071baa19e2dc04436ca",
            "placeholder": "​",
            "style": "IPY_MODEL_e193d6c7768f45eaa66825a8a07f660c",
            "value": " 1648877/1648877 [00:00&lt;00:00, 3391451.67it/s]"
          }
        },
        "1c65a4de45ef4558a58af0981837ed84": {
          "model_module": "@jupyter-widgets/base",
          "model_name": "LayoutModel",
          "model_module_version": "1.2.0",
          "state": {
            "_model_module": "@jupyter-widgets/base",
            "_model_module_version": "1.2.0",
            "_model_name": "LayoutModel",
            "_view_count": null,
            "_view_module": "@jupyter-widgets/base",
            "_view_module_version": "1.2.0",
            "_view_name": "LayoutView",
            "align_content": null,
            "align_items": null,
            "align_self": null,
            "border": null,
            "bottom": null,
            "display": null,
            "flex": null,
            "flex_flow": null,
            "grid_area": null,
            "grid_auto_columns": null,
            "grid_auto_flow": null,
            "grid_auto_rows": null,
            "grid_column": null,
            "grid_gap": null,
            "grid_row": null,
            "grid_template_areas": null,
            "grid_template_columns": null,
            "grid_template_rows": null,
            "height": null,
            "justify_content": null,
            "justify_items": null,
            "left": null,
            "margin": null,
            "max_height": null,
            "max_width": null,
            "min_height": null,
            "min_width": null,
            "object_fit": null,
            "object_position": null,
            "order": null,
            "overflow": null,
            "overflow_x": null,
            "overflow_y": null,
            "padding": null,
            "right": null,
            "top": null,
            "visibility": null,
            "width": null
          }
        },
        "221070b7c2134f7d85e14d3f808ec196": {
          "model_module": "@jupyter-widgets/base",
          "model_name": "LayoutModel",
          "model_module_version": "1.2.0",
          "state": {
            "_model_module": "@jupyter-widgets/base",
            "_model_module_version": "1.2.0",
            "_model_name": "LayoutModel",
            "_view_count": null,
            "_view_module": "@jupyter-widgets/base",
            "_view_module_version": "1.2.0",
            "_view_name": "LayoutView",
            "align_content": null,
            "align_items": null,
            "align_self": null,
            "border": null,
            "bottom": null,
            "display": null,
            "flex": null,
            "flex_flow": null,
            "grid_area": null,
            "grid_auto_columns": null,
            "grid_auto_flow": null,
            "grid_auto_rows": null,
            "grid_column": null,
            "grid_gap": null,
            "grid_row": null,
            "grid_template_areas": null,
            "grid_template_columns": null,
            "grid_template_rows": null,
            "height": null,
            "justify_content": null,
            "justify_items": null,
            "left": null,
            "margin": null,
            "max_height": null,
            "max_width": null,
            "min_height": null,
            "min_width": null,
            "object_fit": null,
            "object_position": null,
            "order": null,
            "overflow": null,
            "overflow_x": null,
            "overflow_y": null,
            "padding": null,
            "right": null,
            "top": null,
            "visibility": null,
            "width": null
          }
        },
        "27c4e468434a4f95b61a4ac2091e9e98": {
          "model_module": "@jupyter-widgets/controls",
          "model_name": "DescriptionStyleModel",
          "model_module_version": "1.5.0",
          "state": {
            "_model_module": "@jupyter-widgets/controls",
            "_model_module_version": "1.5.0",
            "_model_name": "DescriptionStyleModel",
            "_view_count": null,
            "_view_module": "@jupyter-widgets/base",
            "_view_module_version": "1.2.0",
            "_view_name": "StyleView",
            "description_width": ""
          }
        },
        "70398114a752435590c18bb3fc81f949": {
          "model_module": "@jupyter-widgets/base",
          "model_name": "LayoutModel",
          "model_module_version": "1.2.0",
          "state": {
            "_model_module": "@jupyter-widgets/base",
            "_model_module_version": "1.2.0",
            "_model_name": "LayoutModel",
            "_view_count": null,
            "_view_module": "@jupyter-widgets/base",
            "_view_module_version": "1.2.0",
            "_view_name": "LayoutView",
            "align_content": null,
            "align_items": null,
            "align_self": null,
            "border": null,
            "bottom": null,
            "display": null,
            "flex": null,
            "flex_flow": null,
            "grid_area": null,
            "grid_auto_columns": null,
            "grid_auto_flow": null,
            "grid_auto_rows": null,
            "grid_column": null,
            "grid_gap": null,
            "grid_row": null,
            "grid_template_areas": null,
            "grid_template_columns": null,
            "grid_template_rows": null,
            "height": null,
            "justify_content": null,
            "justify_items": null,
            "left": null,
            "margin": null,
            "max_height": null,
            "max_width": null,
            "min_height": null,
            "min_width": null,
            "object_fit": null,
            "object_position": null,
            "order": null,
            "overflow": null,
            "overflow_x": null,
            "overflow_y": null,
            "padding": null,
            "right": null,
            "top": null,
            "visibility": null,
            "width": null
          }
        },
        "b1fa8eae92094c4aabc42fe6eb8711e6": {
          "model_module": "@jupyter-widgets/controls",
          "model_name": "ProgressStyleModel",
          "model_module_version": "1.5.0",
          "state": {
            "_model_module": "@jupyter-widgets/controls",
            "_model_module_version": "1.5.0",
            "_model_name": "ProgressStyleModel",
            "_view_count": null,
            "_view_module": "@jupyter-widgets/base",
            "_view_module_version": "1.2.0",
            "_view_name": "StyleView",
            "bar_color": null,
            "description_width": ""
          }
        },
        "728d262f18054071baa19e2dc04436ca": {
          "model_module": "@jupyter-widgets/base",
          "model_name": "LayoutModel",
          "model_module_version": "1.2.0",
          "state": {
            "_model_module": "@jupyter-widgets/base",
            "_model_module_version": "1.2.0",
            "_model_name": "LayoutModel",
            "_view_count": null,
            "_view_module": "@jupyter-widgets/base",
            "_view_module_version": "1.2.0",
            "_view_name": "LayoutView",
            "align_content": null,
            "align_items": null,
            "align_self": null,
            "border": null,
            "bottom": null,
            "display": null,
            "flex": null,
            "flex_flow": null,
            "grid_area": null,
            "grid_auto_columns": null,
            "grid_auto_flow": null,
            "grid_auto_rows": null,
            "grid_column": null,
            "grid_gap": null,
            "grid_row": null,
            "grid_template_areas": null,
            "grid_template_columns": null,
            "grid_template_rows": null,
            "height": null,
            "justify_content": null,
            "justify_items": null,
            "left": null,
            "margin": null,
            "max_height": null,
            "max_width": null,
            "min_height": null,
            "min_width": null,
            "object_fit": null,
            "object_position": null,
            "order": null,
            "overflow": null,
            "overflow_x": null,
            "overflow_y": null,
            "padding": null,
            "right": null,
            "top": null,
            "visibility": null,
            "width": null
          }
        },
        "e193d6c7768f45eaa66825a8a07f660c": {
          "model_module": "@jupyter-widgets/controls",
          "model_name": "DescriptionStyleModel",
          "model_module_version": "1.5.0",
          "state": {
            "_model_module": "@jupyter-widgets/controls",
            "_model_module_version": "1.5.0",
            "_model_name": "DescriptionStyleModel",
            "_view_count": null,
            "_view_module": "@jupyter-widgets/base",
            "_view_module_version": "1.2.0",
            "_view_name": "StyleView",
            "description_width": ""
          }
        },
        "15b55896abc0465bad7225604509063c": {
          "model_module": "@jupyter-widgets/controls",
          "model_name": "HBoxModel",
          "model_module_version": "1.5.0",
          "state": {
            "_dom_classes": [],
            "_model_module": "@jupyter-widgets/controls",
            "_model_module_version": "1.5.0",
            "_model_name": "HBoxModel",
            "_view_count": null,
            "_view_module": "@jupyter-widgets/controls",
            "_view_module_version": "1.5.0",
            "_view_name": "HBoxView",
            "box_style": "",
            "children": [
              "IPY_MODEL_311882ed882f43d5884508048ff49125",
              "IPY_MODEL_36d0c9837d1c4e32a3cdfe5f5e1b072a",
              "IPY_MODEL_4ca4e1ccc248401d943bc8c2a1789bff"
            ],
            "layout": "IPY_MODEL_a288a5dc79fe4408b8813193af585a14"
          }
        },
        "311882ed882f43d5884508048ff49125": {
          "model_module": "@jupyter-widgets/controls",
          "model_name": "HTMLModel",
          "model_module_version": "1.5.0",
          "state": {
            "_dom_classes": [],
            "_model_module": "@jupyter-widgets/controls",
            "_model_module_version": "1.5.0",
            "_model_name": "HTMLModel",
            "_view_count": null,
            "_view_module": "@jupyter-widgets/controls",
            "_view_module_version": "1.5.0",
            "_view_name": "HTMLView",
            "description": "",
            "description_tooltip": null,
            "layout": "IPY_MODEL_45b5275da3c5456b8e82902cb48ed7a5",
            "placeholder": "​",
            "style": "IPY_MODEL_8f462d874b094a77b1570f9f316ecc0f",
            "value": "100%"
          }
        },
        "36d0c9837d1c4e32a3cdfe5f5e1b072a": {
          "model_module": "@jupyter-widgets/controls",
          "model_name": "FloatProgressModel",
          "model_module_version": "1.5.0",
          "state": {
            "_dom_classes": [],
            "_model_module": "@jupyter-widgets/controls",
            "_model_module_version": "1.5.0",
            "_model_name": "FloatProgressModel",
            "_view_count": null,
            "_view_module": "@jupyter-widgets/controls",
            "_view_module_version": "1.5.0",
            "_view_name": "ProgressView",
            "bar_style": "success",
            "description": "",
            "description_tooltip": null,
            "layout": "IPY_MODEL_a38c18c4e0c2443e833ef7607ad87912",
            "max": 4542,
            "min": 0,
            "orientation": "horizontal",
            "style": "IPY_MODEL_375c1166f7aa4e548e4364a1616b99aa",
            "value": 4542
          }
        },
        "4ca4e1ccc248401d943bc8c2a1789bff": {
          "model_module": "@jupyter-widgets/controls",
          "model_name": "HTMLModel",
          "model_module_version": "1.5.0",
          "state": {
            "_dom_classes": [],
            "_model_module": "@jupyter-widgets/controls",
            "_model_module_version": "1.5.0",
            "_model_name": "HTMLModel",
            "_view_count": null,
            "_view_module": "@jupyter-widgets/controls",
            "_view_module_version": "1.5.0",
            "_view_name": "HTMLView",
            "description": "",
            "description_tooltip": null,
            "layout": "IPY_MODEL_e5b868ba52cf4a3e8b64b76237fe32af",
            "placeholder": "​",
            "style": "IPY_MODEL_d481a172c4ca4afd951b83527df3c562",
            "value": " 4542/4542 [00:00&lt;00:00, 24329.09it/s]"
          }
        },
        "a288a5dc79fe4408b8813193af585a14": {
          "model_module": "@jupyter-widgets/base",
          "model_name": "LayoutModel",
          "model_module_version": "1.2.0",
          "state": {
            "_model_module": "@jupyter-widgets/base",
            "_model_module_version": "1.2.0",
            "_model_name": "LayoutModel",
            "_view_count": null,
            "_view_module": "@jupyter-widgets/base",
            "_view_module_version": "1.2.0",
            "_view_name": "LayoutView",
            "align_content": null,
            "align_items": null,
            "align_self": null,
            "border": null,
            "bottom": null,
            "display": null,
            "flex": null,
            "flex_flow": null,
            "grid_area": null,
            "grid_auto_columns": null,
            "grid_auto_flow": null,
            "grid_auto_rows": null,
            "grid_column": null,
            "grid_gap": null,
            "grid_row": null,
            "grid_template_areas": null,
            "grid_template_columns": null,
            "grid_template_rows": null,
            "height": null,
            "justify_content": null,
            "justify_items": null,
            "left": null,
            "margin": null,
            "max_height": null,
            "max_width": null,
            "min_height": null,
            "min_width": null,
            "object_fit": null,
            "object_position": null,
            "order": null,
            "overflow": null,
            "overflow_x": null,
            "overflow_y": null,
            "padding": null,
            "right": null,
            "top": null,
            "visibility": null,
            "width": null
          }
        },
        "45b5275da3c5456b8e82902cb48ed7a5": {
          "model_module": "@jupyter-widgets/base",
          "model_name": "LayoutModel",
          "model_module_version": "1.2.0",
          "state": {
            "_model_module": "@jupyter-widgets/base",
            "_model_module_version": "1.2.0",
            "_model_name": "LayoutModel",
            "_view_count": null,
            "_view_module": "@jupyter-widgets/base",
            "_view_module_version": "1.2.0",
            "_view_name": "LayoutView",
            "align_content": null,
            "align_items": null,
            "align_self": null,
            "border": null,
            "bottom": null,
            "display": null,
            "flex": null,
            "flex_flow": null,
            "grid_area": null,
            "grid_auto_columns": null,
            "grid_auto_flow": null,
            "grid_auto_rows": null,
            "grid_column": null,
            "grid_gap": null,
            "grid_row": null,
            "grid_template_areas": null,
            "grid_template_columns": null,
            "grid_template_rows": null,
            "height": null,
            "justify_content": null,
            "justify_items": null,
            "left": null,
            "margin": null,
            "max_height": null,
            "max_width": null,
            "min_height": null,
            "min_width": null,
            "object_fit": null,
            "object_position": null,
            "order": null,
            "overflow": null,
            "overflow_x": null,
            "overflow_y": null,
            "padding": null,
            "right": null,
            "top": null,
            "visibility": null,
            "width": null
          }
        },
        "8f462d874b094a77b1570f9f316ecc0f": {
          "model_module": "@jupyter-widgets/controls",
          "model_name": "DescriptionStyleModel",
          "model_module_version": "1.5.0",
          "state": {
            "_model_module": "@jupyter-widgets/controls",
            "_model_module_version": "1.5.0",
            "_model_name": "DescriptionStyleModel",
            "_view_count": null,
            "_view_module": "@jupyter-widgets/base",
            "_view_module_version": "1.2.0",
            "_view_name": "StyleView",
            "description_width": ""
          }
        },
        "a38c18c4e0c2443e833ef7607ad87912": {
          "model_module": "@jupyter-widgets/base",
          "model_name": "LayoutModel",
          "model_module_version": "1.2.0",
          "state": {
            "_model_module": "@jupyter-widgets/base",
            "_model_module_version": "1.2.0",
            "_model_name": "LayoutModel",
            "_view_count": null,
            "_view_module": "@jupyter-widgets/base",
            "_view_module_version": "1.2.0",
            "_view_name": "LayoutView",
            "align_content": null,
            "align_items": null,
            "align_self": null,
            "border": null,
            "bottom": null,
            "display": null,
            "flex": null,
            "flex_flow": null,
            "grid_area": null,
            "grid_auto_columns": null,
            "grid_auto_flow": null,
            "grid_auto_rows": null,
            "grid_column": null,
            "grid_gap": null,
            "grid_row": null,
            "grid_template_areas": null,
            "grid_template_columns": null,
            "grid_template_rows": null,
            "height": null,
            "justify_content": null,
            "justify_items": null,
            "left": null,
            "margin": null,
            "max_height": null,
            "max_width": null,
            "min_height": null,
            "min_width": null,
            "object_fit": null,
            "object_position": null,
            "order": null,
            "overflow": null,
            "overflow_x": null,
            "overflow_y": null,
            "padding": null,
            "right": null,
            "top": null,
            "visibility": null,
            "width": null
          }
        },
        "375c1166f7aa4e548e4364a1616b99aa": {
          "model_module": "@jupyter-widgets/controls",
          "model_name": "ProgressStyleModel",
          "model_module_version": "1.5.0",
          "state": {
            "_model_module": "@jupyter-widgets/controls",
            "_model_module_version": "1.5.0",
            "_model_name": "ProgressStyleModel",
            "_view_count": null,
            "_view_module": "@jupyter-widgets/base",
            "_view_module_version": "1.2.0",
            "_view_name": "StyleView",
            "bar_color": null,
            "description_width": ""
          }
        },
        "e5b868ba52cf4a3e8b64b76237fe32af": {
          "model_module": "@jupyter-widgets/base",
          "model_name": "LayoutModel",
          "model_module_version": "1.2.0",
          "state": {
            "_model_module": "@jupyter-widgets/base",
            "_model_module_version": "1.2.0",
            "_model_name": "LayoutModel",
            "_view_count": null,
            "_view_module": "@jupyter-widgets/base",
            "_view_module_version": "1.2.0",
            "_view_name": "LayoutView",
            "align_content": null,
            "align_items": null,
            "align_self": null,
            "border": null,
            "bottom": null,
            "display": null,
            "flex": null,
            "flex_flow": null,
            "grid_area": null,
            "grid_auto_columns": null,
            "grid_auto_flow": null,
            "grid_auto_rows": null,
            "grid_column": null,
            "grid_gap": null,
            "grid_row": null,
            "grid_template_areas": null,
            "grid_template_columns": null,
            "grid_template_rows": null,
            "height": null,
            "justify_content": null,
            "justify_items": null,
            "left": null,
            "margin": null,
            "max_height": null,
            "max_width": null,
            "min_height": null,
            "min_width": null,
            "object_fit": null,
            "object_position": null,
            "order": null,
            "overflow": null,
            "overflow_x": null,
            "overflow_y": null,
            "padding": null,
            "right": null,
            "top": null,
            "visibility": null,
            "width": null
          }
        },
        "d481a172c4ca4afd951b83527df3c562": {
          "model_module": "@jupyter-widgets/controls",
          "model_name": "DescriptionStyleModel",
          "model_module_version": "1.5.0",
          "state": {
            "_model_module": "@jupyter-widgets/controls",
            "_model_module_version": "1.5.0",
            "_model_name": "DescriptionStyleModel",
            "_view_count": null,
            "_view_module": "@jupyter-widgets/base",
            "_view_module_version": "1.2.0",
            "_view_name": "StyleView",
            "description_width": ""
          }
        }
      }
    }
  },
  "nbformat": 4,
  "nbformat_minor": 0
}
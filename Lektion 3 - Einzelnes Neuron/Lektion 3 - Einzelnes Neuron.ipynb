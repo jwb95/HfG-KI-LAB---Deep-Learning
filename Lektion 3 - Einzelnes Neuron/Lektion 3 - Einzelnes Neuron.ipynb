{
 "cells": [
  {
   "cell_type": "code",
   "execution_count": 94,
   "metadata": {},
   "outputs": [],
   "source": [
    "# Funktion zum Visualisieren\n",
    "import matplotlib.pyplot as plt\n",
    "\n",
    "def plot_losses(losses):\n",
    "    plt.plot(losses)\n",
    "    plt.xlabel('trainingsschritt')\n",
    "    plt.ylabel('max_error_für_epoche')\n",
    "    plt.show()"
   ]
  },
  {
   "cell_type": "code",
   "execution_count": 8,
   "metadata": {},
   "outputs": [],
   "source": [
    "# Fehlerfunktion\n",
    "def lossfunction(x, y):\n",
    "    loss = (x - y)**2\n",
    "    return loss\n",
    "\n",
    "# 1. Ableitung der Fehlerfunktion (= f(x)) in Abhängigkeit zu x.\n",
    "# = Analytisch:     Das Verhältnis zw. der winzigen Veränderung in f(x) (= f(x+dx) - f(x)) \n",
    "#                   und der sich 0 annähernden winzigen Veränderung in x (= dx).\n",
    "# = Geometrisch:    Die Steigung der Tangente, die den Graphen von f(x) am Punkt (x, f(x)) berührt.\n",
    "# = Symbolisch:     lim x -> 0: (f(x + dx) - f(x)) / dx \n",
    "def dlossfunction_dx(x, y):\n",
    "    z = 2*(x - y)\n",
    "    return z"
   ]
  },
  {
   "cell_type": "code",
   "execution_count": 9,
   "metadata": {},
   "outputs": [],
   "source": [
    "# Datenset\n",
    "# [[x0, x1], y/label]\n",
    "Dataset = [\n",
    "    [[0,0], 0],\n",
    "    [[0,1], 1],\n",
    "    [[1,1], 1],\n",
    "    [[1,0], 0]\n",
    "]"
   ]
  },
  {
   "cell_type": "code",
   "execution_count": 14,
   "metadata": {},
   "outputs": [],
   "source": [
    "# Forwardschritt definieren\n",
    "def forward(x0, x1):\n",
    "    x = x0*w0 + x1*w1\n",
    "    return x\n",
    "\n",
    "# Funktion zur Anpassung der Gewichte definieren.\n",
    "def optimieren(w0, w1, x, y, x0, x1, learning_rate):\n",
    "    z = dlossfunction_dx(x, y)\n",
    "    w0 = w0 - z * x0 * learning_rate\n",
    "    w1 = w1 - z * x1 * learning_rate\n",
    "    return w0, w1"
   ]
  },
  {
   "cell_type": "code",
   "execution_count": 106,
   "metadata": {},
   "outputs": [
    {
     "name": "stdout",
     "output_type": "stream",
     "text": [
      "Initialisiert    : w0 = -0.6118016779925779, w1 = -0.8546285164715008\n"
     ]
    }
   ],
   "source": [
    "# Gewichte definieren/initialisieren\n",
    "from random import uniform\n",
    "w0 = uniform(-1, 1)#0.3\n",
    "w1 = uniform(-1, 1)#-0.2\n",
    "print('Initialisiert    : w0 = '+str(w0)+', w1 = '+str(w1))"
   ]
  },
  {
   "cell_type": "code",
   "execution_count": 107,
   "metadata": {},
   "outputs": [
    {
     "name": "stdout",
     "output_type": "stream",
     "text": [
      "Nach Training    : w0 = 0.0, w1 = 1.0\n"
     ]
    },
    {
     "data": {
      "image/png": "[encoded data removed]",
      "text/plain": [
       "<Figure size 432x288 with 1 Axes>"
      ]
     },
     "metadata": {
      "needs_background": "light"
     },
     "output_type": "display_data"
    }
   ],
   "source": [
    "# Trainingsloop\n",
    "num_epochs = 3\n",
    "learning_rate = 0.5\n",
    "\n",
    "fehlerhistorie = []\n",
    "for i_epoch in range(num_epochs):\n",
    "    losses_epoch = []\n",
    "    for trainingsbeispiel in Dataset:\n",
    "        x0, x1  = trainingsbeispiel[0]\n",
    "        y       = trainingsbeispiel[1]\n",
    "        x       = forward(x0, x1)\n",
    "        losses_epoch.append(lossfunction(x, y))\n",
    "        w0, w1  = optimieren(w0, w1, x, y, x0, x1, learning_rate)\n",
    "    fehlerhistorie.append(max(losses_epoch))\n",
    "\n",
    "#print('Fehlerhistorie   :', fehlerhistorie)\n",
    "print('Nach Training    : w0 = '+str(w0)+', w1 = '+str(w1))\n",
    "plot_losses(fehlerhistorie)"
   ]
  }
 ],
 "metadata": {
  "interpreter": {
   "hash": "3a9ff018022b2f7d31b1b387b9fdedf33a7eb7ee50c2b2fac9e9928157acf77a"
  },
  "kernelspec": {
   "display_name": "Python 3.7.11 ('colab')",
   "language": "python",
   "name": "python3"
  },
  "language_info": {
   "codemirror_mode": {
    "name": "ipython",
    "version": 3
   },
   "file_extension": ".py",
   "mimetype": "text/x-python",
   "name": "python",
   "nbconvert_exporter": "python",
   "pygments_lexer": "ipython3",
   "version": "3.7.11"
  },
  "orig_nbformat": 4
 },
 "nbformat": 4,
 "nbformat_minor": 2
}

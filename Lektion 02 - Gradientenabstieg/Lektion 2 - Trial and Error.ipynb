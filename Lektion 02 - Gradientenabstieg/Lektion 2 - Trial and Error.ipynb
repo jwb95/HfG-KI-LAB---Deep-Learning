{
 "cells": [
  {
   "cell_type": "markdown",
   "metadata": {},
   "source": [
    "Lektion 2: Gradient Descent"
   ]
  },
  {
   "cell_type": "code",
   "execution_count": 1,
   "metadata": {},
   "outputs": [],
   "source": [
    "# Funktion zum Visualisieren\n",
    "import matplotlib.pyplot as plt\n",
    "\n",
    "def plot_gradient_descent(xs, errors):\n",
    "    plt.scatter(xs, errors)\n",
    "    plt.plot(xs, errors)\n",
    "    xlim = max([abs(x) for x in xs])\n",
    "    plt.xlim([-xlim,xlim])\n",
    "    plt.ylim([0,max(errors)])\n",
    "    plt.xlabel('x')\n",
    "    plt.ylabel('squared_error')\n",
    "    plt.show()"
   ]
  },
  {
   "cell_type": "code",
   "execution_count": 2,
   "metadata": {},
   "outputs": [],
   "source": [
    "# Die Standardparabel f(x) = x**2 wird in diesem Beispiel unser f(x) sein.\n",
    "def f(x):\n",
    "    y = x**2\n",
    "    return y"
   ]
  },
  {
   "cell_type": "code",
   "execution_count": 13,
   "metadata": {},
   "outputs": [],
   "source": [
    "\"\"\"\n",
    "Funktion für eine Iteration\n",
    "Inputs: das aktuelle x_n und die learning rate\n",
    "Outputs: das neue x_n+1 und den aktuellen Error (= f(x_n+1))\n",
    "\"\"\"\n",
    "\n",
    "def optimization_step(x, step_size):\n",
    "    current_error = f(x)\n",
    "    trial_left = x + step_size\n",
    "    trial_right = x - step_size\n",
    "    error_left = f(trial_left)\n",
    "    error_right = f(trial_right)\n",
    "    if error_left < error_right and error_left < current_error:\n",
    "        return trial_left, error_left\n",
    "    if error_right < error_left and error_right < current_error:\n",
    "        return trial_right, error_right\n",
    "    return x, 0"
   ]
  },
  {
   "cell_type": "code",
   "execution_count": 19,
   "metadata": {},
   "outputs": [
    {
     "name": "stdout",
     "output_type": "stream",
     "text": [
      "2.900257061283865\n",
      "2.569654239141484\n",
      "2.2590514169991023\n",
      "1.9684485948567205\n",
      "1.6978457727143392\n",
      "1.4472429505719577\n",
      "1.2166401284295765\n",
      "1.006037306287195\n",
      "0.8154344841448139\n",
      "0.6448316620024328\n",
      "0.4942288398600517\n",
      "0.3636260177176706\n",
      "0.25302319557528946\n",
      "0.1624203734329083\n",
      "0.09181755129052716\n",
      "0.04121472914814597\n",
      "0.010611907005764797\n",
      "9.084863383625615e-06\n",
      "0\n",
      "0\n"
     ]
    },
    {
     "data": {
      "image/png": "[encoded data removed]",
      "text/plain": [
       "<Figure size 432x288 with 1 Axes>"
      ]
     },
     "metadata": {
      "needs_background": "light"
     },
     "output_type": "display_data"
    }
   ],
   "source": [
    "# Learning rate\n",
    "learning_rate = 0.1\n",
    "# Anzahl der Iterationen\n",
    "num_steps = 20\n",
    "\n",
    "# x zufällig zw. -4 und 4 initialisieren.\n",
    "from random import uniform\n",
    "x = uniform(-4,4)\n",
    "\n",
    "# Für die x-werte und die zugehörigen Errors legen wir jeweils eine Liste an\n",
    "# und legen das initialiserte x bzw. f(x) hinein. Das tun wir, um später den Verlauf der Optimierung zu visualisieren.\n",
    "xs, sqrd_errors = [x,], [f(x),]\n",
    "\n",
    "# Optimierungsschleife\n",
    "for i in range(num_steps):\n",
    "    # Optimierungsschritt ausführen\n",
    "    x, sqrd_error = optimization_step(x, learning_rate)\n",
    "    # Den aktuellen Error ausgeben\n",
    "    print(sqrd_error)\n",
    "    # Das aktuelle x und den zugehörigen Fehler an die entsprechende Liste anhängen.\n",
    "    xs.append(x)\n",
    "    sqrd_errors.append(sqrd_error)\n",
    "\n",
    "# Optimierungsverlauf visualisieren\n",
    "plot_gradient_descent(xs, sqrd_errors)"
   ]
  }
 ],
 "metadata": {
  "interpreter": {
   "hash": "c835db2baaf2435493ba177633ecc6e7b494f68caffaf071892b99466f1af313"
  },
  "kernelspec": {
   "display_name": "Python 3.6.13 ('movenet')",
   "language": "python",
   "name": "python3"
  },
  "language_info": {
   "codemirror_mode": {
    "name": "ipython",
    "version": 3
   },
   "file_extension": ".py",
   "mimetype": "text/x-python",
   "name": "python",
   "nbconvert_exporter": "python",
   "pygments_lexer": "ipython3",
   "version": "3.9.10"
  },
  "orig_nbformat": 4
 },
 "nbformat": 4,
 "nbformat_minor": 2
}

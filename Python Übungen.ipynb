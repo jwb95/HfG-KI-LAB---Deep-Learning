{
 "cells": [
  {
   "cell_type": "code",
   "execution_count": null,
   "metadata": {},
   "outputs": [],
   "source": [
    "'''\n",
    "1.) \n",
    "Write a python program which does the following:\n",
    "A variable 'x' which points to the integer value 0 is defined.\n",
    "Then 3 is added to 'x'.\n",
    "Finally x is printed out.\n",
    "'''"
   ]
  },
  {
   "cell_type": "code",
   "execution_count": null,
   "metadata": {},
   "outputs": [],
   "source": [
    "'''\n",
    "2.)\n",
    "Define a function which does the following:\n",
    "    Given two integer numbers it returns their product if the product is equal to or lower than 1000\n",
    "    otherwise it returns their sum.\n",
    "\n",
    "Then the result of the function evaluated on 200 and 30 is printed.\n",
    "Then the result of the function evaluated on 20 and 30 is printed.\n",
    "'''"
   ]
  },
  {
   "cell_type": "code",
   "execution_count": null,
   "metadata": {},
   "outputs": [],
   "source": [
    "'''\n",
    "3.)\n",
    "Write a program to iterate the range of numbers from 0 to 10 (both included) and in each iteration\n",
    "print the current number, the previous number and the sum of the current and previous number.\n",
    "In the first iteration (0) when there exists no previous number by default, let that previous number be defined as 0.\n",
    "''' "
   ]
  },
  {
   "cell_type": "code",
   "execution_count": null,
   "metadata": {},
   "outputs": [],
   "source": [
    "'''\n",
    "4.)\n",
    "Define a function which prints all characters of a string which lie on the even indices.\n",
    "Tip 1: The first even index is 0, the second even index is 2 and so forth.\n",
    "Tip 2: You can access the first character of a string 'x' with the codesnippet: x[0],\n",
    "     the second character with x[1] and so forth.\n",
    "\n",
    "Define a string with at least 10 characters. For example that could possibly be your own or\n",
    "another person's full name without spaces.\n",
    "Finally call the function on that string.\n",
    "'''"
   ]
  },
  {
   "cell_type": "code",
   "execution_count": null,
   "metadata": {},
   "outputs": [],
   "source": [
    "'''\n",
    "5.)\n",
    "Define a function which accepts a string x and an integer n.\n",
    "In the case that the number of characters of x is the same or smaller than n, the function shall return x.\n",
    "Otherwise it shall return the first n characters of x.\n",
    "\n",
    "Define a variable pointing to the string \"Ferienziel\".\n",
    "Call the function on that variable and an integer < 10.\n",
    "Call the function on that variable and an integer >= 10.\n",
    "'''"
   ]
  },
  {
   "cell_type": "code",
   "execution_count": null,
   "metadata": {},
   "outputs": [],
   "source": [
    "'''\n",
    "6.)\n",
    "Write a function which accepts a lists. If the first and the last element of the list are equivalent (= the same),\n",
    "then the function shall return True.\n",
    "Otherwise it shall return False.\n",
    "\n",
    "Define the following two lists.\n",
    "numbers_x = [10, 20, 30, 40, 10]\n",
    "numbers_y = [75, 65, 35, 75, 30]\n",
    "\n",
    "Call the function on numbers_x.\n",
    "Call the function on numbers_y.\n",
    "'''"
   ]
  },
  {
   "cell_type": "code",
   "execution_count": null,
   "metadata": {},
   "outputs": [],
   "source": [
    "'''\n",
    "7.)\n",
    "Define a list containing 12 random numbers in the range [0, 10].\n",
    "Iterate over the list and print each number which is divisible by 2.\n",
    "Then iterate over the list and print each number which is divisble by 5.\n",
    "\n",
    "Tip: There exists an arithemtic operation (you already know: +, -, *, /) called modulo\n",
    "    denoted by this symbol: %. It can be defined as follows:\n",
    "    x % n = x - p, where p = (the largest multiple of n) <= x.\n",
    "    We already learned about modulo at least on time in our lifes, when we were around 6 years old but \n",
    "    probably noone told us the name of this operation at that point.\n",
    "    '''"
   ]
  },
  {
   "cell_type": "code",
   "execution_count": null,
   "metadata": {},
   "outputs": [],
   "source": [
    "'''\n",
    "8.)\n",
    "Write a program which sums the integer values in the range [1, 9) and stores it in a variable.\n",
    "Finally the variable is printed out.\n",
    "\n",
    "Note: [ means that the number is included in the range while ) means that it is not.\n",
    "So we're talking about the range from 1 to 9 inclunding 1 but excluding 9.\n",
    "'''"
   ]
  },
  {
   "cell_type": "code",
   "execution_count": null,
   "metadata": {},
   "outputs": [],
   "source": [
    "'''\n",
    "9.)\n",
    "Write a program which prints out all numbers in the range [0, 2) spaced by 0.1.\n",
    "That just means, when you execute the program you would like to see:\n",
    "0,\n",
    "0.1,\n",
    "0.2,\n",
    "...,\n",
    "1.9\n",
    "'''"
   ]
  },
  {
   "cell_type": "code",
   "execution_count": null,
   "metadata": {},
   "outputs": [],
   "source": [
    "'''\n",
    "10.)\n",
    "Write a python program which does the following:\n",
    "A variable 'x' is created which points to a random value in the range [3, 9).\n",
    "Tip: Use random.randint() for that.\n",
    "Then a variable 'y' is defined which points to the string 'I've drawn the random number: '.\n",
    "Then 'x' gets converted into a string.\n",
    "Finally the concatenation of x and y is being printed out.\n",
    "    \n",
    "Note: [ means that the number is included in the range while ) means that it is not.\n",
    "So we're talking about the range from 3 to 9 inclunding 3 but excluding 9.\n",
    "'''"
   ]
  },
  {
   "cell_type": "code",
   "execution_count": null,
   "metadata": {},
   "outputs": [],
   "source": [
    "'''\n",
    "11.)\n",
    "Define a function which computes !x.\n",
    "x! is a mathematical function called \"Faculty/Fakultät\" and is defined as follows:\n",
    "x! = 1 * 2 * ... * x\n",
    "So for example:\n",
    "5! = 1 * 2 * 3 * 4 * 5\n",
    "\n",
    "Then write a loop which iterates over all numbers i in the range [0, 20)\n",
    "and for each iteration prints i!\n",
    "'''"
   ]
  }
 ],
 "metadata": {
  "kernelspec": {
   "display_name": "Python 3.10.4",
   "language": "python",
   "name": "python3"
  },
  "language_info": {
   "codemirror_mode": {
    "name": "ipython",
    "version": 3
   },
   "file_extension": ".py",
   "mimetype": "text/x-python",
   "name": "python",
   "nbconvert_exporter": "python",
   "pygments_lexer": "ipython3",
   "version": "3.10.4"
  },
  "orig_nbformat": 4,
  "vscode": {
   "interpreter": {
    "hash": "f7649c6a3cde0ebfb5fc9d6a3a67c0970d3e43e6c5b96b352406b1b94f0abf87"
   }
  }
 },
 "nbformat": 4,
 "nbformat_minor": 2
}
